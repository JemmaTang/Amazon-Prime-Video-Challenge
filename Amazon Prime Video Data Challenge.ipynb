{
 "cells": [
  {
   "cell_type": "code",
   "execution_count": 1,
   "metadata": {},
   "outputs": [],
   "source": [
    "# Project: Amazon Prime Video Dataset Challange\n",
    "# Name: Jemma Tang\n",
    "# Date: 09/04/2020\n",
    "# Goal: build a prediction model to predict whether a movie is going to perform well on the platform \n",
    "# based on the information given in the dataset"
   ]
  },
  {
   "cell_type": "code",
   "execution_count": 92,
   "metadata": {},
   "outputs": [],
   "source": [
    "import pandas as pd\n",
    "import numpy as np\n",
    "import matplotlib.pyplot as plt\n",
    "import seaborn as sns\n",
    "from sklearn import preprocessing\n",
    "from sklearn import model_selection\n",
    "from sklearn.model_selection import train_test_split\n",
    "from sklearn.linear_model import LinearRegression, Lasso, Ridge\n",
    "from sklearn.metrics import mean_squared_error, r2_score\n",
    "from math import sqrt\n",
    "from sklearn.ensemble import RandomForestRegressor\n",
    "from sklearn.model_selection import GridSearchCV"
   ]
  },
  {
   "cell_type": "code",
   "execution_count": 3,
   "metadata": {},
   "outputs": [
    {
     "data": {
      "text/html": [
       "<div>\n",
       "<style scoped>\n",
       "    .dataframe tbody tr th:only-of-type {\n",
       "        vertical-align: middle;\n",
       "    }\n",
       "\n",
       "    .dataframe tbody tr th {\n",
       "        vertical-align: top;\n",
       "    }\n",
       "\n",
       "    .dataframe thead th {\n",
       "        text-align: right;\n",
       "    }\n",
       "</style>\n",
       "<table border=\"1\" class=\"dataframe\">\n",
       "  <thead>\n",
       "    <tr style=\"text-align: right;\">\n",
       "      <th></th>\n",
       "      <th>video_id</th>\n",
       "      <th>cvt_per_day</th>\n",
       "      <th>weighted_categorical_position</th>\n",
       "      <th>weighted_horizontal_poition</th>\n",
       "      <th>import_id</th>\n",
       "      <th>release_year</th>\n",
       "      <th>genres</th>\n",
       "      <th>imdb_votes</th>\n",
       "      <th>budget</th>\n",
       "      <th>boxoffice</th>\n",
       "      <th>imdb_rating</th>\n",
       "      <th>duration_in_mins</th>\n",
       "      <th>metacritic_score</th>\n",
       "      <th>awards</th>\n",
       "      <th>mpaa</th>\n",
       "      <th>star_category</th>\n",
       "    </tr>\n",
       "  </thead>\n",
       "  <tbody>\n",
       "    <tr>\n",
       "      <th>0</th>\n",
       "      <td>385504</td>\n",
       "      <td>307127.605608</td>\n",
       "      <td>1</td>\n",
       "      <td>3</td>\n",
       "      <td>lionsgate</td>\n",
       "      <td>2013</td>\n",
       "      <td>Action,Thriller,Drama</td>\n",
       "      <td>69614</td>\n",
       "      <td>15000000</td>\n",
       "      <td>42930462</td>\n",
       "      <td>6.5</td>\n",
       "      <td>112.301017</td>\n",
       "      <td>51</td>\n",
       "      <td>other award</td>\n",
       "      <td>PG-13</td>\n",
       "      <td>1.710000</td>\n",
       "    </tr>\n",
       "    <tr>\n",
       "      <th>1</th>\n",
       "      <td>300175</td>\n",
       "      <td>270338.426375</td>\n",
       "      <td>1</td>\n",
       "      <td>3</td>\n",
       "      <td>lionsgate</td>\n",
       "      <td>2013</td>\n",
       "      <td>Comedy,Crime,Thriller</td>\n",
       "      <td>46705</td>\n",
       "      <td>15000000</td>\n",
       "      <td>3301046</td>\n",
       "      <td>6.5</td>\n",
       "      <td>94.983250</td>\n",
       "      <td>41</td>\n",
       "      <td>no award</td>\n",
       "      <td>R</td>\n",
       "      <td>3.250000</td>\n",
       "    </tr>\n",
       "    <tr>\n",
       "      <th>2</th>\n",
       "      <td>361899</td>\n",
       "      <td>256165.867446</td>\n",
       "      <td>1</td>\n",
       "      <td>3</td>\n",
       "      <td>other</td>\n",
       "      <td>2012</td>\n",
       "      <td>Crime,Drama</td>\n",
       "      <td>197596</td>\n",
       "      <td>26000000</td>\n",
       "      <td>37397291</td>\n",
       "      <td>7.3</td>\n",
       "      <td>115.763675</td>\n",
       "      <td>58</td>\n",
       "      <td>other award</td>\n",
       "      <td>R</td>\n",
       "      <td>2.646667</td>\n",
       "    </tr>\n",
       "    <tr>\n",
       "      <th>3</th>\n",
       "      <td>308314</td>\n",
       "      <td>196622.720996</td>\n",
       "      <td>3</td>\n",
       "      <td>4</td>\n",
       "      <td>lionsgate</td>\n",
       "      <td>2008</td>\n",
       "      <td>Thriller,Drama,War,Documentary,Mystery,Action</td>\n",
       "      <td>356339</td>\n",
       "      <td>15000000</td>\n",
       "      <td>15700000</td>\n",
       "      <td>7.6</td>\n",
       "      <td>130.703583</td>\n",
       "      <td>94</td>\n",
       "      <td>Oscar</td>\n",
       "      <td>R</td>\n",
       "      <td>1.666667</td>\n",
       "    </tr>\n",
       "    <tr>\n",
       "      <th>4</th>\n",
       "      <td>307201</td>\n",
       "      <td>159841.652064</td>\n",
       "      <td>1</td>\n",
       "      <td>3</td>\n",
       "      <td>lionsgate</td>\n",
       "      <td>2013</td>\n",
       "      <td>Crime,Thriller,Mystery,Documentary</td>\n",
       "      <td>46720</td>\n",
       "      <td>27220000</td>\n",
       "      <td>8551228</td>\n",
       "      <td>6.4</td>\n",
       "      <td>105.545533</td>\n",
       "      <td>37</td>\n",
       "      <td>other award</td>\n",
       "      <td>R</td>\n",
       "      <td>3.066667</td>\n",
       "    </tr>\n",
       "    <tr>\n",
       "      <th>...</th>\n",
       "      <td>...</td>\n",
       "      <td>...</td>\n",
       "      <td>...</td>\n",
       "      <td>...</td>\n",
       "      <td>...</td>\n",
       "      <td>...</td>\n",
       "      <td>...</td>\n",
       "      <td>...</td>\n",
       "      <td>...</td>\n",
       "      <td>...</td>\n",
       "      <td>...</td>\n",
       "      <td>...</td>\n",
       "      <td>...</td>\n",
       "      <td>...</td>\n",
       "      <td>...</td>\n",
       "      <td>...</td>\n",
       "    </tr>\n",
       "    <tr>\n",
       "      <th>4221</th>\n",
       "      <td>160848</td>\n",
       "      <td>9.726396</td>\n",
       "      <td>3</td>\n",
       "      <td>32</td>\n",
       "      <td>other</td>\n",
       "      <td>2010</td>\n",
       "      <td>Comedy,Drama</td>\n",
       "      <td>14</td>\n",
       "      <td>0</td>\n",
       "      <td>0</td>\n",
       "      <td>7.8</td>\n",
       "      <td>4.311600</td>\n",
       "      <td>0</td>\n",
       "      <td>no award</td>\n",
       "      <td>NotRated</td>\n",
       "      <td>1.700000</td>\n",
       "    </tr>\n",
       "    <tr>\n",
       "      <th>4222</th>\n",
       "      <td>365178</td>\n",
       "      <td>7.912698</td>\n",
       "      <td>29</td>\n",
       "      <td>35</td>\n",
       "      <td>other</td>\n",
       "      <td>2013</td>\n",
       "      <td>Music</td>\n",
       "      <td>0</td>\n",
       "      <td>0</td>\n",
       "      <td>0</td>\n",
       "      <td>0.0</td>\n",
       "      <td>4.878900</td>\n",
       "      <td>0</td>\n",
       "      <td>no award</td>\n",
       "      <td>PG-13</td>\n",
       "      <td>0.000000</td>\n",
       "    </tr>\n",
       "    <tr>\n",
       "      <th>4223</th>\n",
       "      <td>11615</td>\n",
       "      <td>2.935691</td>\n",
       "      <td>3</td>\n",
       "      <td>27</td>\n",
       "      <td>other</td>\n",
       "      <td>2008</td>\n",
       "      <td>Comedy</td>\n",
       "      <td>505</td>\n",
       "      <td>0</td>\n",
       "      <td>0</td>\n",
       "      <td>7.1</td>\n",
       "      <td>110.350000</td>\n",
       "      <td>0</td>\n",
       "      <td>other award</td>\n",
       "      <td>NotRated</td>\n",
       "      <td>0.000000</td>\n",
       "    </tr>\n",
       "    <tr>\n",
       "      <th>4224</th>\n",
       "      <td>26365</td>\n",
       "      <td>2.866614</td>\n",
       "      <td>4</td>\n",
       "      <td>15</td>\n",
       "      <td>other</td>\n",
       "      <td>2003</td>\n",
       "      <td>Documentary</td>\n",
       "      <td>5</td>\n",
       "      <td>100000</td>\n",
       "      <td>0</td>\n",
       "      <td>6.0</td>\n",
       "      <td>79.633333</td>\n",
       "      <td>0</td>\n",
       "      <td>no award</td>\n",
       "      <td>NotRated</td>\n",
       "      <td>0.000000</td>\n",
       "    </tr>\n",
       "    <tr>\n",
       "      <th>4225</th>\n",
       "      <td>11229</td>\n",
       "      <td>2.187625</td>\n",
       "      <td>7</td>\n",
       "      <td>35</td>\n",
       "      <td>other</td>\n",
       "      <td>2003</td>\n",
       "      <td>Drama,Romance</td>\n",
       "      <td>80</td>\n",
       "      <td>0</td>\n",
       "      <td>0</td>\n",
       "      <td>7.6</td>\n",
       "      <td>53.618083</td>\n",
       "      <td>0</td>\n",
       "      <td>no award</td>\n",
       "      <td>NotRated</td>\n",
       "      <td>1.750000</td>\n",
       "    </tr>\n",
       "  </tbody>\n",
       "</table>\n",
       "<p>4226 rows × 16 columns</p>\n",
       "</div>"
      ],
      "text/plain": [
       "      video_id    cvt_per_day  weighted_categorical_position  \\\n",
       "0       385504  307127.605608                              1   \n",
       "1       300175  270338.426375                              1   \n",
       "2       361899  256165.867446                              1   \n",
       "3       308314  196622.720996                              3   \n",
       "4       307201  159841.652064                              1   \n",
       "...        ...            ...                            ...   \n",
       "4221    160848       9.726396                              3   \n",
       "4222    365178       7.912698                             29   \n",
       "4223     11615       2.935691                              3   \n",
       "4224     26365       2.866614                              4   \n",
       "4225     11229       2.187625                              7   \n",
       "\n",
       "      weighted_horizontal_poition  import_id  release_year  \\\n",
       "0                               3  lionsgate          2013   \n",
       "1                               3  lionsgate          2013   \n",
       "2                               3      other          2012   \n",
       "3                               4  lionsgate          2008   \n",
       "4                               3  lionsgate          2013   \n",
       "...                           ...        ...           ...   \n",
       "4221                           32      other          2010   \n",
       "4222                           35      other          2013   \n",
       "4223                           27      other          2008   \n",
       "4224                           15      other          2003   \n",
       "4225                           35      other          2003   \n",
       "\n",
       "                                             genres  imdb_votes    budget  \\\n",
       "0                             Action,Thriller,Drama       69614  15000000   \n",
       "1                             Comedy,Crime,Thriller       46705  15000000   \n",
       "2                                       Crime,Drama      197596  26000000   \n",
       "3     Thriller,Drama,War,Documentary,Mystery,Action      356339  15000000   \n",
       "4                Crime,Thriller,Mystery,Documentary       46720  27220000   \n",
       "...                                             ...         ...       ...   \n",
       "4221                                   Comedy,Drama          14         0   \n",
       "4222                                          Music           0         0   \n",
       "4223                                         Comedy         505         0   \n",
       "4224                                    Documentary           5    100000   \n",
       "4225                                  Drama,Romance          80         0   \n",
       "\n",
       "      boxoffice  imdb_rating  duration_in_mins  metacritic_score       awards  \\\n",
       "0      42930462          6.5        112.301017                51  other award   \n",
       "1       3301046          6.5         94.983250                41     no award   \n",
       "2      37397291          7.3        115.763675                58  other award   \n",
       "3      15700000          7.6        130.703583                94        Oscar   \n",
       "4       8551228          6.4        105.545533                37  other award   \n",
       "...         ...          ...               ...               ...          ...   \n",
       "4221          0          7.8          4.311600                 0     no award   \n",
       "4222          0          0.0          4.878900                 0     no award   \n",
       "4223          0          7.1        110.350000                 0  other award   \n",
       "4224          0          6.0         79.633333                 0     no award   \n",
       "4225          0          7.6         53.618083                 0     no award   \n",
       "\n",
       "          mpaa  star_category  \n",
       "0        PG-13       1.710000  \n",
       "1            R       3.250000  \n",
       "2            R       2.646667  \n",
       "3            R       1.666667  \n",
       "4            R       3.066667  \n",
       "...        ...            ...  \n",
       "4221  NotRated       1.700000  \n",
       "4222     PG-13       0.000000  \n",
       "4223  NotRated       0.000000  \n",
       "4224  NotRated       0.000000  \n",
       "4225  NotRated       1.750000  \n",
       "\n",
       "[4226 rows x 16 columns]"
      ]
     },
     "execution_count": 3,
     "metadata": {},
     "output_type": "execute_result"
    }
   ],
   "source": [
    "# There are 4226 rows with 16 features. \n",
    "# I will review this further to identify what attributes will be necessary \n",
    "# and what data manipulation needs to be carried out before Exploratory analysis and prediction modelling\n",
    "prime = pd.read_csv(\"TVdata.CSV\")\n",
    "prime"
   ]
  },
  {
   "cell_type": "code",
   "execution_count": 11,
   "metadata": {},
   "outputs": [
    {
     "name": "stdout",
     "output_type": "stream",
     "text": [
      "<class 'pandas.core.frame.DataFrame'>\n",
      "RangeIndex: 4226 entries, 0 to 4225\n",
      "Data columns (total 16 columns):\n",
      " #   Column                         Non-Null Count  Dtype  \n",
      "---  ------                         --------------  -----  \n",
      " 0   video_id                       4226 non-null   int64  \n",
      " 1   cvt_per_day                    4226 non-null   float64\n",
      " 2   weighted_categorical_position  4226 non-null   int64  \n",
      " 3   weighted_horizontal_poition    4226 non-null   int64  \n",
      " 4   import_id                      4226 non-null   object \n",
      " 5   release_year                   4226 non-null   int64  \n",
      " 6   genres                         4226 non-null   object \n",
      " 7   imdb_votes                     4226 non-null   int64  \n",
      " 8   budget                         4226 non-null   int64  \n",
      " 9   boxoffice                      4226 non-null   int64  \n",
      " 10  imdb_rating                    4226 non-null   float64\n",
      " 11  duration_in_mins               4226 non-null   float64\n",
      " 12  metacritic_score               4226 non-null   int64  \n",
      " 13  awards                         4226 non-null   object \n",
      " 14  mpaa                           4226 non-null   object \n",
      " 15  star_category                  4226 non-null   float64\n",
      "dtypes: float64(4), int64(8), object(4)\n",
      "memory usage: 528.4+ KB\n"
     ]
    }
   ],
   "source": [
    "# check column list and missing values\n",
    "prime.info()"
   ]
  },
  {
   "cell_type": "code",
   "execution_count": 12,
   "metadata": {},
   "outputs": [],
   "source": [
    "# wow, no missing values!"
   ]
  },
  {
   "cell_type": "code",
   "execution_count": 16,
   "metadata": {},
   "outputs": [
    {
     "data": {
      "text/html": [
       "<div>\n",
       "<style scoped>\n",
       "    .dataframe tbody tr th:only-of-type {\n",
       "        vertical-align: middle;\n",
       "    }\n",
       "\n",
       "    .dataframe tbody tr th {\n",
       "        vertical-align: top;\n",
       "    }\n",
       "\n",
       "    .dataframe thead th {\n",
       "        text-align: right;\n",
       "    }\n",
       "</style>\n",
       "<table border=\"1\" class=\"dataframe\">\n",
       "  <thead>\n",
       "    <tr style=\"text-align: right;\">\n",
       "      <th></th>\n",
       "      <th>cvt_per_day</th>\n",
       "      <th>weighted_categorical_position</th>\n",
       "      <th>weighted_horizontal_poition</th>\n",
       "      <th>imdb_votes</th>\n",
       "      <th>budget</th>\n",
       "      <th>boxoffice</th>\n",
       "      <th>imdb_rating</th>\n",
       "      <th>duration_in_mins</th>\n",
       "      <th>metacritic_score</th>\n",
       "      <th>star_category</th>\n",
       "    </tr>\n",
       "  </thead>\n",
       "  <tbody>\n",
       "    <tr>\n",
       "      <th>count</th>\n",
       "      <td>4226.000000</td>\n",
       "      <td>4226.000000</td>\n",
       "      <td>4226.000000</td>\n",
       "      <td>4226.000000</td>\n",
       "      <td>4.226000e+03</td>\n",
       "      <td>4.226000e+03</td>\n",
       "      <td>4226.000000</td>\n",
       "      <td>4226.000000</td>\n",
       "      <td>4226.000000</td>\n",
       "      <td>4226.000000</td>\n",
       "    </tr>\n",
       "    <tr>\n",
       "      <th>mean</th>\n",
       "      <td>4218.630239</td>\n",
       "      <td>7.782537</td>\n",
       "      <td>28.103644</td>\n",
       "      <td>6462.924042</td>\n",
       "      <td>2.150743e+06</td>\n",
       "      <td>2.536338e+06</td>\n",
       "      <td>5.257099</td>\n",
       "      <td>89.556123</td>\n",
       "      <td>15.973734</td>\n",
       "      <td>0.954651</td>\n",
       "    </tr>\n",
       "    <tr>\n",
       "      <th>std</th>\n",
       "      <td>13036.079964</td>\n",
       "      <td>6.134183</td>\n",
       "      <td>11.863649</td>\n",
       "      <td>31596.006790</td>\n",
       "      <td>7.176604e+06</td>\n",
       "      <td>8.243516e+06</td>\n",
       "      <td>2.122810</td>\n",
       "      <td>21.086183</td>\n",
       "      <td>26.205217</td>\n",
       "      <td>0.955045</td>\n",
       "    </tr>\n",
       "    <tr>\n",
       "      <th>min</th>\n",
       "      <td>2.187625</td>\n",
       "      <td>1.000000</td>\n",
       "      <td>1.000000</td>\n",
       "      <td>0.000000</td>\n",
       "      <td>0.000000e+00</td>\n",
       "      <td>0.000000e+00</td>\n",
       "      <td>0.000000</td>\n",
       "      <td>4.037250</td>\n",
       "      <td>0.000000</td>\n",
       "      <td>0.000000</td>\n",
       "    </tr>\n",
       "    <tr>\n",
       "      <th>10%</th>\n",
       "      <td>141.984913</td>\n",
       "      <td>3.000000</td>\n",
       "      <td>13.000000</td>\n",
       "      <td>8.000000</td>\n",
       "      <td>0.000000e+00</td>\n",
       "      <td>0.000000e+00</td>\n",
       "      <td>2.300000</td>\n",
       "      <td>62.390781</td>\n",
       "      <td>0.000000</td>\n",
       "      <td>0.000000</td>\n",
       "    </tr>\n",
       "    <tr>\n",
       "      <th>25%</th>\n",
       "      <td>351.168776</td>\n",
       "      <td>4.000000</td>\n",
       "      <td>20.000000</td>\n",
       "      <td>81.000000</td>\n",
       "      <td>0.000000e+00</td>\n",
       "      <td>0.000000e+00</td>\n",
       "      <td>4.300000</td>\n",
       "      <td>82.601712</td>\n",
       "      <td>0.000000</td>\n",
       "      <td>0.000000</td>\n",
       "    </tr>\n",
       "    <tr>\n",
       "      <th>50%</th>\n",
       "      <td>1193.499989</td>\n",
       "      <td>6.000000</td>\n",
       "      <td>28.000000</td>\n",
       "      <td>535.000000</td>\n",
       "      <td>0.000000e+00</td>\n",
       "      <td>0.000000e+00</td>\n",
       "      <td>5.800000</td>\n",
       "      <td>90.730308</td>\n",
       "      <td>0.000000</td>\n",
       "      <td>1.000000</td>\n",
       "    </tr>\n",
       "    <tr>\n",
       "      <th>75%</th>\n",
       "      <td>3356.788816</td>\n",
       "      <td>9.000000</td>\n",
       "      <td>36.000000</td>\n",
       "      <td>3053.000000</td>\n",
       "      <td>1.500000e+06</td>\n",
       "      <td>0.000000e+00</td>\n",
       "      <td>6.800000</td>\n",
       "      <td>99.500312</td>\n",
       "      <td>41.000000</td>\n",
       "      <td>1.666667</td>\n",
       "    </tr>\n",
       "    <tr>\n",
       "      <th>95%</th>\n",
       "      <td>14692.833929</td>\n",
       "      <td>22.000000</td>\n",
       "      <td>48.000000</td>\n",
       "      <td>26199.500000</td>\n",
       "      <td>1.200000e+07</td>\n",
       "      <td>8.551228e+06</td>\n",
       "      <td>7.800000</td>\n",
       "      <td>119.131183</td>\n",
       "      <td>65.000000</td>\n",
       "      <td>2.597222</td>\n",
       "    </tr>\n",
       "    <tr>\n",
       "      <th>max</th>\n",
       "      <td>307127.605608</td>\n",
       "      <td>41.000000</td>\n",
       "      <td>70.000000</td>\n",
       "      <td>948630.000000</td>\n",
       "      <td>1.070000e+08</td>\n",
       "      <td>1.842088e+08</td>\n",
       "      <td>10.000000</td>\n",
       "      <td>246.016767</td>\n",
       "      <td>100.000000</td>\n",
       "      <td>4.000000</td>\n",
       "    </tr>\n",
       "  </tbody>\n",
       "</table>\n",
       "</div>"
      ],
      "text/plain": [
       "         cvt_per_day  weighted_categorical_position  \\\n",
       "count    4226.000000                    4226.000000   \n",
       "mean     4218.630239                       7.782537   \n",
       "std     13036.079964                       6.134183   \n",
       "min         2.187625                       1.000000   \n",
       "10%       141.984913                       3.000000   \n",
       "25%       351.168776                       4.000000   \n",
       "50%      1193.499989                       6.000000   \n",
       "75%      3356.788816                       9.000000   \n",
       "95%     14692.833929                      22.000000   \n",
       "max    307127.605608                      41.000000   \n",
       "\n",
       "       weighted_horizontal_poition     imdb_votes        budget     boxoffice  \\\n",
       "count                  4226.000000    4226.000000  4.226000e+03  4.226000e+03   \n",
       "mean                     28.103644    6462.924042  2.150743e+06  2.536338e+06   \n",
       "std                      11.863649   31596.006790  7.176604e+06  8.243516e+06   \n",
       "min                       1.000000       0.000000  0.000000e+00  0.000000e+00   \n",
       "10%                      13.000000       8.000000  0.000000e+00  0.000000e+00   \n",
       "25%                      20.000000      81.000000  0.000000e+00  0.000000e+00   \n",
       "50%                      28.000000     535.000000  0.000000e+00  0.000000e+00   \n",
       "75%                      36.000000    3053.000000  1.500000e+06  0.000000e+00   \n",
       "95%                      48.000000   26199.500000  1.200000e+07  8.551228e+06   \n",
       "max                      70.000000  948630.000000  1.070000e+08  1.842088e+08   \n",
       "\n",
       "       imdb_rating  duration_in_mins  metacritic_score  star_category  \n",
       "count  4226.000000       4226.000000       4226.000000    4226.000000  \n",
       "mean      5.257099         89.556123         15.973734       0.954651  \n",
       "std       2.122810         21.086183         26.205217       0.955045  \n",
       "min       0.000000          4.037250          0.000000       0.000000  \n",
       "10%       2.300000         62.390781          0.000000       0.000000  \n",
       "25%       4.300000         82.601712          0.000000       0.000000  \n",
       "50%       5.800000         90.730308          0.000000       1.000000  \n",
       "75%       6.800000         99.500312         41.000000       1.666667  \n",
       "95%       7.800000        119.131183         65.000000       2.597222  \n",
       "max      10.000000        246.016767        100.000000       4.000000  "
      ]
     },
     "execution_count": 16,
     "metadata": {},
     "output_type": "execute_result"
    }
   ],
   "source": [
    "prime.drop(columns=['video_id','release_year'],axis=1).describe(percentiles=[0.1,0.25,0.5,0.75,0.95])"
   ]
  },
  {
   "cell_type": "code",
   "execution_count": null,
   "metadata": {},
   "outputs": [],
   "source": [
    "# However, when I was doing more details, some weird things happened\n",
    "# Most of 50th percentile budget and 75th percentile boxoffice values are zero"
   ]
  },
  {
   "cell_type": "code",
   "execution_count": 20,
   "metadata": {},
   "outputs": [
    {
     "data": {
      "text/plain": [
       "video_id                         0.000000\n",
       "cvt_per_day                      0.000000\n",
       "weighted_categorical_position    0.000000\n",
       "weighted_horizontal_poition      0.000000\n",
       "import_id                        0.000000\n",
       "release_year                     0.000000\n",
       "genres                           0.000000\n",
       "imdb_votes                       0.081401\n",
       "budget                           0.580691\n",
       "boxoffice                        0.755797\n",
       "imdb_rating                      0.081401\n",
       "duration_in_mins                 0.000000\n",
       "metacritic_score                 0.712731\n",
       "awards                           0.000000\n",
       "mpaa                             0.000000\n",
       "star_category                    0.436820\n",
       "dtype: float64"
      ]
     },
     "execution_count": 20,
     "metadata": {},
     "output_type": "execute_result"
    }
   ],
   "source": [
    "(prime == 0).sum(axis = 0)/prime.shape[0]"
   ]
  },
  {
   "cell_type": "code",
   "execution_count": null,
   "metadata": {},
   "outputs": [],
   "source": [
    "# It is normal in imdb_votes, imdb_rating, and metacritic_score to see zeros\n",
    "# but it is unusual to see 58% movies' budget and 76% movie's boxoffice are zeros\n",
    "# I need to impute these zeros/missing values later"
   ]
  },
  {
   "cell_type": "code",
   "execution_count": 21,
   "metadata": {},
   "outputs": [
    {
     "data": {
      "text/plain": [
       "video_id                         4226\n",
       "cvt_per_day                      4226\n",
       "weighted_categorical_position      37\n",
       "weighted_horizontal_poition        68\n",
       "import_id                           4\n",
       "release_year                       97\n",
       "genres                           1165\n",
       "imdb_votes                       2282\n",
       "budget                            253\n",
       "boxoffice                         410\n",
       "imdb_rating                        85\n",
       "duration_in_mins                 4097\n",
       "metacritic_score                   90\n",
       "awards                              5\n",
       "mpaa                                6\n",
       "star_category                     630\n",
       "dtype: int64"
      ]
     },
     "execution_count": 21,
     "metadata": {},
     "output_type": "execute_result"
    }
   ],
   "source": [
    "# check the unique count for each variable\n",
    "prime.nunique()"
   ]
  },
  {
   "cell_type": "code",
   "execution_count": null,
   "metadata": {},
   "outputs": [],
   "source": [
    "# Here we can see that the first two attributes: video_id and cvt_per_dat are specific for each video\n",
    "# cvt_per_day: cumulated view time per day for each video \n",
    "# since I want to see if a movie perform well or not, the cvt_per_day is my depending variable. \n",
    "# I want to have a look at its relationship with other variables."
   ]
  },
  {
   "cell_type": "code",
   "execution_count": 22,
   "metadata": {},
   "outputs": [
    {
     "data": {
      "text/plain": [
       "0       307127.605608\n",
       "1       270338.426375\n",
       "2       256165.867446\n",
       "3       196622.720996\n",
       "4       159841.652064\n",
       "            ...      \n",
       "4221         9.726396\n",
       "4222         7.912698\n",
       "4223         2.935691\n",
       "4224         2.866614\n",
       "4225         2.187625\n",
       "Name: cvt_per_day, Length: 4226, dtype: float64"
      ]
     },
     "execution_count": 22,
     "metadata": {},
     "output_type": "execute_result"
    }
   ],
   "source": [
    "y = prime[\"cvt_per_day\"]\n",
    "y"
   ]
  },
  {
   "cell_type": "code",
   "execution_count": 32,
   "metadata": {},
   "outputs": [
    {
     "data": {
      "image/png": "[encoded data removed]",
      "text/plain": [
       "<Figure size 432x288 with 1 Axes>"
      ]
     },
     "metadata": {
      "needs_background": "light"
     },
     "output_type": "display_data"
    }
   ],
   "source": [
    "plt.hist(prime['cvt_per_day'],bins=range(0,15000,30),color='b',label='cvt_per_day',density=True,alpha=0.5)\n",
    "plt.title('Historgrams of cvt_per_day before data processing')\n",
    "plt.legend(loc='upper right')\n",
    "plt.xlabel('cvt_per_day')\n",
    "plt.ylabel('density')\n",
    "\n",
    "plt.show()"
   ]
  },
  {
   "cell_type": "code",
   "execution_count": 37,
   "metadata": {},
   "outputs": [
    {
     "data": {
      "text/plain": [
       "<AxesSubplot:>"
      ]
     },
     "execution_count": 37,
     "metadata": {},
     "output_type": "execute_result"
    },
    {
     "data": {
      "image/png": "[encoded data removed]",
      "text/plain": [
       "<Figure size 432x288 with 2 Axes>"
      ]
     },
     "metadata": {
      "needs_background": "light"
     },
     "output_type": "display_data"
    }
   ],
   "source": [
    "corr = prime[['cvt_per_day','weighted_categorical_position','weighted_horizontal_poition'\n",
    "               ,'release_year', 'imdb_votes', 'budget', 'boxoffice' ,'imdb_rating', \n",
    "               'duration_in_mins', 'metacritic_score', 'star_category']].corr()\n",
    "\n",
    "sns.heatmap(corr, cmap=\"YlGnBu\")"
   ]
  },
  {
   "cell_type": "code",
   "execution_count": 38,
   "metadata": {},
   "outputs": [
    {
     "data": {
      "text/html": [
       "<div>\n",
       "<style scoped>\n",
       "    .dataframe tbody tr th:only-of-type {\n",
       "        vertical-align: middle;\n",
       "    }\n",
       "\n",
       "    .dataframe tbody tr th {\n",
       "        vertical-align: top;\n",
       "    }\n",
       "\n",
       "    .dataframe thead th {\n",
       "        text-align: right;\n",
       "    }\n",
       "</style>\n",
       "<table border=\"1\" class=\"dataframe\">\n",
       "  <thead>\n",
       "    <tr style=\"text-align: right;\">\n",
       "      <th></th>\n",
       "      <th>cvt_per_day</th>\n",
       "      <th>weighted_categorical_position</th>\n",
       "      <th>weighted_horizontal_poition</th>\n",
       "      <th>release_year</th>\n",
       "      <th>imdb_votes</th>\n",
       "      <th>budget</th>\n",
       "      <th>boxoffice</th>\n",
       "      <th>imdb_rating</th>\n",
       "      <th>duration_in_mins</th>\n",
       "      <th>metacritic_score</th>\n",
       "      <th>star_category</th>\n",
       "    </tr>\n",
       "  </thead>\n",
       "  <tbody>\n",
       "    <tr>\n",
       "      <th>cvt_per_day</th>\n",
       "      <td>1.000000</td>\n",
       "      <td>-0.148000</td>\n",
       "      <td>-0.301663</td>\n",
       "      <td>0.045859</td>\n",
       "      <td>0.297697</td>\n",
       "      <td>0.315886</td>\n",
       "      <td>0.312209</td>\n",
       "      <td>0.058894</td>\n",
       "      <td>0.152217</td>\n",
       "      <td>0.249159</td>\n",
       "      <td>0.246956</td>\n",
       "    </tr>\n",
       "    <tr>\n",
       "      <th>weighted_categorical_position</th>\n",
       "      <td>-0.148000</td>\n",
       "      <td>1.000000</td>\n",
       "      <td>-0.084066</td>\n",
       "      <td>-0.068902</td>\n",
       "      <td>-0.063700</td>\n",
       "      <td>-0.089899</td>\n",
       "      <td>-0.073628</td>\n",
       "      <td>-0.116443</td>\n",
       "      <td>-0.174461</td>\n",
       "      <td>-0.044317</td>\n",
       "      <td>-0.122851</td>\n",
       "    </tr>\n",
       "    <tr>\n",
       "      <th>weighted_horizontal_poition</th>\n",
       "      <td>-0.301663</td>\n",
       "      <td>-0.084066</td>\n",
       "      <td>1.000000</td>\n",
       "      <td>0.026634</td>\n",
       "      <td>-0.220749</td>\n",
       "      <td>-0.211356</td>\n",
       "      <td>-0.244709</td>\n",
       "      <td>-0.162021</td>\n",
       "      <td>-0.102344</td>\n",
       "      <td>-0.255015</td>\n",
       "      <td>-0.167801</td>\n",
       "    </tr>\n",
       "    <tr>\n",
       "      <th>release_year</th>\n",
       "      <td>0.045859</td>\n",
       "      <td>-0.068902</td>\n",
       "      <td>0.026634</td>\n",
       "      <td>1.000000</td>\n",
       "      <td>-0.082661</td>\n",
       "      <td>-0.040121</td>\n",
       "      <td>-0.128091</td>\n",
       "      <td>-0.198856</td>\n",
       "      <td>-0.096811</td>\n",
       "      <td>-0.167038</td>\n",
       "      <td>-0.198454</td>\n",
       "    </tr>\n",
       "    <tr>\n",
       "      <th>imdb_votes</th>\n",
       "      <td>0.297697</td>\n",
       "      <td>-0.063700</td>\n",
       "      <td>-0.220749</td>\n",
       "      <td>-0.082661</td>\n",
       "      <td>1.000000</td>\n",
       "      <td>0.272852</td>\n",
       "      <td>0.531467</td>\n",
       "      <td>0.163264</td>\n",
       "      <td>0.155670</td>\n",
       "      <td>0.321860</td>\n",
       "      <td>0.225192</td>\n",
       "    </tr>\n",
       "    <tr>\n",
       "      <th>budget</th>\n",
       "      <td>0.315886</td>\n",
       "      <td>-0.089899</td>\n",
       "      <td>-0.211356</td>\n",
       "      <td>-0.040121</td>\n",
       "      <td>0.272852</td>\n",
       "      <td>1.000000</td>\n",
       "      <td>0.504618</td>\n",
       "      <td>0.105671</td>\n",
       "      <td>0.251342</td>\n",
       "      <td>0.314608</td>\n",
       "      <td>0.321721</td>\n",
       "    </tr>\n",
       "    <tr>\n",
       "      <th>boxoffice</th>\n",
       "      <td>0.312209</td>\n",
       "      <td>-0.073628</td>\n",
       "      <td>-0.244709</td>\n",
       "      <td>-0.128091</td>\n",
       "      <td>0.531467</td>\n",
       "      <td>0.504618</td>\n",
       "      <td>1.000000</td>\n",
       "      <td>0.163673</td>\n",
       "      <td>0.226184</td>\n",
       "      <td>0.464965</td>\n",
       "      <td>0.322329</td>\n",
       "    </tr>\n",
       "    <tr>\n",
       "      <th>imdb_rating</th>\n",
       "      <td>0.058894</td>\n",
       "      <td>-0.116443</td>\n",
       "      <td>-0.162021</td>\n",
       "      <td>-0.198856</td>\n",
       "      <td>0.163264</td>\n",
       "      <td>0.105671</td>\n",
       "      <td>0.163673</td>\n",
       "      <td>1.000000</td>\n",
       "      <td>0.344055</td>\n",
       "      <td>0.346935</td>\n",
       "      <td>0.191768</td>\n",
       "    </tr>\n",
       "    <tr>\n",
       "      <th>duration_in_mins</th>\n",
       "      <td>0.152217</td>\n",
       "      <td>-0.174461</td>\n",
       "      <td>-0.102344</td>\n",
       "      <td>-0.096811</td>\n",
       "      <td>0.155670</td>\n",
       "      <td>0.251342</td>\n",
       "      <td>0.226184</td>\n",
       "      <td>0.344055</td>\n",
       "      <td>1.000000</td>\n",
       "      <td>0.327050</td>\n",
       "      <td>0.309110</td>\n",
       "    </tr>\n",
       "    <tr>\n",
       "      <th>metacritic_score</th>\n",
       "      <td>0.249159</td>\n",
       "      <td>-0.044317</td>\n",
       "      <td>-0.255015</td>\n",
       "      <td>-0.167038</td>\n",
       "      <td>0.321860</td>\n",
       "      <td>0.314608</td>\n",
       "      <td>0.464965</td>\n",
       "      <td>0.346935</td>\n",
       "      <td>0.327050</td>\n",
       "      <td>1.000000</td>\n",
       "      <td>0.452445</td>\n",
       "    </tr>\n",
       "    <tr>\n",
       "      <th>star_category</th>\n",
       "      <td>0.246956</td>\n",
       "      <td>-0.122851</td>\n",
       "      <td>-0.167801</td>\n",
       "      <td>-0.198454</td>\n",
       "      <td>0.225192</td>\n",
       "      <td>0.321721</td>\n",
       "      <td>0.322329</td>\n",
       "      <td>0.191768</td>\n",
       "      <td>0.309110</td>\n",
       "      <td>0.452445</td>\n",
       "      <td>1.000000</td>\n",
       "    </tr>\n",
       "  </tbody>\n",
       "</table>\n",
       "</div>"
      ],
      "text/plain": [
       "                               cvt_per_day  weighted_categorical_position  \\\n",
       "cvt_per_day                       1.000000                      -0.148000   \n",
       "weighted_categorical_position    -0.148000                       1.000000   \n",
       "weighted_horizontal_poition      -0.301663                      -0.084066   \n",
       "release_year                      0.045859                      -0.068902   \n",
       "imdb_votes                        0.297697                      -0.063700   \n",
       "budget                            0.315886                      -0.089899   \n",
       "boxoffice                         0.312209                      -0.073628   \n",
       "imdb_rating                       0.058894                      -0.116443   \n",
       "duration_in_mins                  0.152217                      -0.174461   \n",
       "metacritic_score                  0.249159                      -0.044317   \n",
       "star_category                     0.246956                      -0.122851   \n",
       "\n",
       "                               weighted_horizontal_poition  release_year  \\\n",
       "cvt_per_day                                      -0.301663      0.045859   \n",
       "weighted_categorical_position                    -0.084066     -0.068902   \n",
       "weighted_horizontal_poition                       1.000000      0.026634   \n",
       "release_year                                      0.026634      1.000000   \n",
       "imdb_votes                                       -0.220749     -0.082661   \n",
       "budget                                           -0.211356     -0.040121   \n",
       "boxoffice                                        -0.244709     -0.128091   \n",
       "imdb_rating                                      -0.162021     -0.198856   \n",
       "duration_in_mins                                 -0.102344     -0.096811   \n",
       "metacritic_score                                 -0.255015     -0.167038   \n",
       "star_category                                    -0.167801     -0.198454   \n",
       "\n",
       "                               imdb_votes    budget  boxoffice  imdb_rating  \\\n",
       "cvt_per_day                      0.297697  0.315886   0.312209     0.058894   \n",
       "weighted_categorical_position   -0.063700 -0.089899  -0.073628    -0.116443   \n",
       "weighted_horizontal_poition     -0.220749 -0.211356  -0.244709    -0.162021   \n",
       "release_year                    -0.082661 -0.040121  -0.128091    -0.198856   \n",
       "imdb_votes                       1.000000  0.272852   0.531467     0.163264   \n",
       "budget                           0.272852  1.000000   0.504618     0.105671   \n",
       "boxoffice                        0.531467  0.504618   1.000000     0.163673   \n",
       "imdb_rating                      0.163264  0.105671   0.163673     1.000000   \n",
       "duration_in_mins                 0.155670  0.251342   0.226184     0.344055   \n",
       "metacritic_score                 0.321860  0.314608   0.464965     0.346935   \n",
       "star_category                    0.225192  0.321721   0.322329     0.191768   \n",
       "\n",
       "                               duration_in_mins  metacritic_score  \\\n",
       "cvt_per_day                            0.152217          0.249159   \n",
       "weighted_categorical_position         -0.174461         -0.044317   \n",
       "weighted_horizontal_poition           -0.102344         -0.255015   \n",
       "release_year                          -0.096811         -0.167038   \n",
       "imdb_votes                             0.155670          0.321860   \n",
       "budget                                 0.251342          0.314608   \n",
       "boxoffice                              0.226184          0.464965   \n",
       "imdb_rating                            0.344055          0.346935   \n",
       "duration_in_mins                       1.000000          0.327050   \n",
       "metacritic_score                       0.327050          1.000000   \n",
       "star_category                          0.309110          0.452445   \n",
       "\n",
       "                               star_category  \n",
       "cvt_per_day                         0.246956  \n",
       "weighted_categorical_position      -0.122851  \n",
       "weighted_horizontal_poition        -0.167801  \n",
       "release_year                       -0.198454  \n",
       "imdb_votes                          0.225192  \n",
       "budget                              0.321721  \n",
       "boxoffice                           0.322329  \n",
       "imdb_rating                         0.191768  \n",
       "duration_in_mins                    0.309110  \n",
       "metacritic_score                    0.452445  \n",
       "star_category                       1.000000  "
      ]
     },
     "execution_count": 38,
     "metadata": {},
     "output_type": "execute_result"
    }
   ],
   "source": [
    "corr"
   ]
  },
  {
   "cell_type": "code",
   "execution_count": null,
   "metadata": {},
   "outputs": [],
   "source": [
    "# After finishing numerical features, I need to have a look at categorical features"
   ]
  },
  {
   "cell_type": "code",
   "execution_count": 39,
   "metadata": {},
   "outputs": [
    {
     "data": {
      "image/png": "[encoded data removed]",
      "text/plain": [
       "<Figure size 432x288 with 1 Axes>"
      ]
     },
     "metadata": {
      "needs_background": "light"
     },
     "output_type": "display_data"
    },
    {
     "name": "stdout",
     "output_type": "stream",
     "text": [
      "other        2963\n",
      "lionsgate     677\n",
      "mgm           445\n",
      "paramount     141\n",
      "Name: import_id, dtype: int64\n"
     ]
    },
    {
     "data": {
      "image/png": "[encoded data removed]",
      "text/plain": [
       "<Figure size 432x288 with 1 Axes>"
      ]
     },
     "metadata": {
      "needs_background": "light"
     },
     "output_type": "display_data"
    },
    {
     "name": "stdout",
     "output_type": "stream",
     "text": [
      "NotRated    2158\n",
      "R           1158\n",
      "PG-13        426\n",
      "PG           353\n",
      "G            125\n",
      "NC-17          6\n",
      "Name: mpaa, dtype: int64\n"
     ]
    },
    {
     "data": {
      "image/png": "[encoded data removed]",
      "text/plain": [
       "<Figure size 432x288 with 1 Axes>"
      ]
     },
     "metadata": {
      "needs_background": "light"
     },
     "output_type": "display_data"
    },
    {
     "name": "stdout",
     "output_type": "stream",
     "text": [
      "no award        2569\n",
      "other award     1453\n",
      "Oscar            141\n",
      "Golden Globe      44\n",
      "BAFTA             19\n",
      "Name: awards, dtype: int64\n"
     ]
    }
   ],
   "source": [
    "sns.stripplot(x='import_id', y='cvt_per_day', data = prime, jitter = True)\n",
    "plt.show()\n",
    "print(prime['import_id'].value_counts())\n",
    "\n",
    "sns.stripplot(x='mpaa', y='cvt_per_day', data = prime, jitter = True)\n",
    "plt.show()\n",
    "print(prime['mpaa'].value_counts())\n",
    "\n",
    "sns.stripplot(x='awards', y='cvt_per_day', data = prime, jitter = True)\n",
    "plt.show()\n",
    "print(prime['awards'].value_counts())"
   ]
  },
  {
   "cell_type": "code",
   "execution_count": 42,
   "metadata": {},
   "outputs": [],
   "source": [
    "# Before doing encoding, I find that genres variable is complicated\n",
    "# Some videos belongs to more than 1 genre, the genre of each video is splited, \n",
    "# this would help emphasize the effect of each individual genre."
   ]
  },
  {
   "cell_type": "code",
   "execution_count": 41,
   "metadata": {},
   "outputs": [
    {
     "name": "stdout",
     "output_type": "stream",
     "text": [
      "Action                    739\n",
      "Adult                       3\n",
      "Adventure                 363\n",
      "Animation                 129\n",
      "Anime                      11\n",
      "Comedy                   1184\n",
      "Crime                     437\n",
      "Documentary               671\n",
      "Drama                    1677\n",
      "Fantasy                   243\n",
      "Foreign/International      64\n",
      "Holiday                     1\n",
      "Horror                    762\n",
      "Independent               393\n",
      "Kids & Family             280\n",
      "LGBT                        2\n",
      "Lifestyle                   7\n",
      "Music                     171\n",
      "Musicals                   68\n",
      "Mystery                   375\n",
      "Reality                     9\n",
      "Romance                   591\n",
      "Sci-Fi                    363\n",
      "Sport                      77\n",
      "Thriller                  879\n",
      "War                       102\n",
      "Western                   102\n",
      "dtype: int64\n"
     ]
    },
    {
     "data": {
      "text/plain": [
       "<AxesSubplot:>"
      ]
     },
     "execution_count": 41,
     "metadata": {},
     "output_type": "execute_result"
    },
    {
     "data": {
      "image/png": "[encoded data removed]",
      "text/plain": [
       "<Figure size 432x288 with 1 Axes>"
      ]
     },
     "metadata": {
      "needs_background": "light"
     },
     "output_type": "display_data"
    }
   ],
   "source": [
    "# generes explore, split the genre of each video\n",
    "gen_split = prime['genres'].str.get_dummies(sep=',').sum()\n",
    "print(gen_split)\n",
    "\n",
    "gen_split.sort_values(ascending=False).plot.bar()"
   ]
  },
  {
   "cell_type": "code",
   "execution_count": null,
   "metadata": {},
   "outputs": [],
   "source": [
    "# The release year of video varies through a wide range. Considering the popularity of a video usually decays over time, \n",
    "# the release_year should be bucketed based on the release_year range."
   ]
  },
  {
   "cell_type": "code",
   "execution_count": 43,
   "metadata": {},
   "outputs": [
    {
     "data": {
      "image/png": "[encoded data removed]",
      "text/plain": [
       "<Figure size 432x288 with 1 Axes>"
      ]
     },
     "metadata": {
      "needs_background": "light"
     },
     "output_type": "display_data"
    }
   ],
   "source": [
    "plt.hist(prime['release_year'].values, bins = range(1910, 2017, 1), alpha = 0.5, color='b', label = 'release_year')\n",
    "plt.legend(loc ='upper left')\n",
    "plt.title('Historgrams of release_year before data processing')\n",
    "plt.xlabel('release_year')\n",
    "plt.ylabel('Count')\n",
    "plt.show()"
   ]
  },
  {
   "cell_type": "code",
   "execution_count": null,
   "metadata": {},
   "outputs": [],
   "source": [
    "# After basic exploratory data analysis, there are following things need to do\n",
    "# 1. Encode categorical features\n",
    "# 2. Impute missing data(many zeros) for both numerical and categorical data\n",
    "# 3. Scale out features"
   ]
  },
  {
   "cell_type": "code",
   "execution_count": null,
   "metadata": {},
   "outputs": [],
   "source": [
    "# Feature Preprocessing"
   ]
  },
  {
   "cell_type": "code",
   "execution_count": null,
   "metadata": {},
   "outputs": [],
   "source": [
    "# There are 5 categorical features: import_id, mpaa, awards, genres, and release_year. \n",
    "# There is no missing data in them. They can be converted into dummy/indicators."
   ]
  },
  {
   "cell_type": "code",
   "execution_count": 44,
   "metadata": {},
   "outputs": [],
   "source": [
    "# The first 3 (import_id, mpaa, awards )have relatively small sub-types, they can be easily converted to dummies."
   ]
  },
  {
   "cell_type": "code",
   "execution_count": 48,
   "metadata": {},
   "outputs": [],
   "source": [
    "d_import = pd.get_dummies(prime[\"import_id\"]).astype(np.int64)\n",
    "d_mpaa = pd.get_dummies(prime[\"mpaa\"]).astype(np.int64)\n",
    "d_awards = pd.get_dummies(prime[\"awards\"]).astype(np.int64)"
   ]
  },
  {
   "cell_type": "code",
   "execution_count": null,
   "metadata": {},
   "outputs": [],
   "source": [
    "# The 'genres' have 27 different sub-types, 6 of them are rarely observed (refer to previous section).\n",
    "# It's reasonable to group these 6 into\n",
    "\n",
    "# Note: a video may have more than one genre, in the feature preprocessing, all genres are handled individually.\n",
    "# The release_year is binned into 10 buckets based on the year range between 1917 and 2017."
   ]
  },
  {
   "cell_type": "code",
   "execution_count": 60,
   "metadata": {},
   "outputs": [],
   "source": [
    "d_genres = prime[\"genres\"].str.get_dummies(sep = \",\").astype(np.int64)\n",
    "d_genres['Misc_genres'] = d_genres['Anime']|d_genres['Reality']|d_genres['Lifestyle']|d_genres['Adult']|d_genres['LGBT']|d_genres['Holiday']"
   ]
  },
  {
   "cell_type": "code",
   "execution_count": 61,
   "metadata": {},
   "outputs": [],
   "source": [
    "d_genres.drop(['Anime', 'Reality','Lifestyle', 'Adult','LGBT','Holiday'], inplace=True, axis=1)"
   ]
  },
  {
   "cell_type": "code",
   "execution_count": 63,
   "metadata": {},
   "outputs": [],
   "source": [
    "# Bucketize release_year"
   ]
  },
  {
   "cell_type": "code",
   "execution_count": 66,
   "metadata": {},
   "outputs": [
    {
     "data": {
      "text/plain": [
       "0.1    1974.0\n",
       "0.2    1991.0\n",
       "0.3    2001.0\n",
       "0.4    2006.0\n",
       "0.5    2008.0\n",
       "0.6    2010.0\n",
       "0.7    2012.0\n",
       "0.8    2013.0\n",
       "0.9    2014.0\n",
       "Name: release_year, dtype: float64"
      ]
     },
     "execution_count": 66,
     "metadata": {},
     "output_type": "execute_result"
    }
   ],
   "source": [
    "prime['release_year'].quantile([0.1,0.2,0.3,0.4,0.5,0.6,0.7,0.8,0.9])"
   ]
  },
  {
   "cell_type": "code",
   "execution_count": 69,
   "metadata": {},
   "outputs": [],
   "source": [
    "# bin release_year and convert into dummies\n",
    "bin_year = [1916, 1974, 1991, 2001, 2006, 2008, 2010, 2012, 2013, 2014, 2017]\n",
    "year_range = ['1916-1974', '1974-1991', '1991-2001', '2001-2006','2006-2008','2008-2010','2010-2012','2012-2013',\n",
    "              '2013-2014','2014-2017']\n",
    "year_bin = pd.cut(prime['release_year'], bin_year, labels = year_range)\n",
    "d_year = pd.get_dummies(year_bin).astype(np.int64)"
   ]
  },
  {
   "cell_type": "code",
   "execution_count": 71,
   "metadata": {},
   "outputs": [
    {
     "name": "stdout",
     "output_type": "stream",
     "text": [
      "   video_id    cvt_per_day  weighted_categorical_position  \\\n",
      "0    385504  307127.605608                              1   \n",
      "1    300175  270338.426375                              1   \n",
      "2    361899  256165.867446                              1   \n",
      "3    308314  196622.720996                              3   \n",
      "4    307201  159841.652064                              1   \n",
      "\n",
      "   weighted_horizontal_poition  imdb_votes    budget  boxoffice  imdb_rating  \\\n",
      "0                            3       69614  15000000   42930462          6.5   \n",
      "1                            3       46705  15000000    3301046          6.5   \n",
      "2                            3      197596  26000000   37397291          7.3   \n",
      "3                            4      356339  15000000   15700000          7.6   \n",
      "4                            3       46720  27220000    8551228          6.4   \n",
      "\n",
      "   duration_in_mins  metacritic_score  ...  1916-1974  1974-1991  1991-2001  \\\n",
      "0        112.301017                51  ...          0          0          0   \n",
      "1         94.983250                41  ...          0          0          0   \n",
      "2        115.763675                58  ...          0          0          0   \n",
      "3        130.703583                94  ...          0          0          0   \n",
      "4        105.545533                37  ...          0          0          0   \n",
      "\n",
      "   2001-2006  2006-2008  2008-2010  2010-2012  2012-2013  2013-2014  2014-2017  \n",
      "0          0          0          0          0          1          0          0  \n",
      "1          0          0          0          0          1          0          0  \n",
      "2          0          0          0          1          0          0          0  \n",
      "3          0          1          0          0          0          0          0  \n",
      "4          0          0          0          0          1          0          0  \n",
      "\n",
      "[5 rows x 58 columns]\n"
     ]
    }
   ],
   "source": [
    "# new dataframe, drop the previous categorical features, add new dummy variables, check for null\n",
    "\n",
    "temp_prime=prime.drop(['import_id', 'mpaa','awards','genres', 'release_year'], axis=1)\n",
    "\n",
    "new_prime = pd.concat([temp_prime, d_import, d_mpaa, d_awards, d_genres, d_year], axis=1)\n",
    "print(new_prime.head())"
   ]
  },
  {
   "cell_type": "code",
   "execution_count": null,
   "metadata": {},
   "outputs": [],
   "source": [
    "#Among the 10 numerical features (not include video_id), \n",
    "#4 features have over 25% of missing values (shown as '0', which is not possible in reality): budget, boxoffice, metacritic_score, star_category. \n",
    "#2 features have less than 10% of missing data: imdb_votes, imdb_rating.\n",
    "\n",
    "#There are 3242 samples have at least one missing data."
   ]
  },
  {
   "cell_type": "code",
   "execution_count": null,
   "metadata": {},
   "outputs": [],
   "source": [
    "# Right Now we have to deal with the missing data.\n",
    "# According to the data info, there is no Null value in our dataset.\n",
    "# That's good, but we have to be catious, cause zero value can be a very good candidate for missing data. \n",
    "# So we have the check the ratio of zero value in our numeric feature"
   ]
  },
  {
   "cell_type": "code",
   "execution_count": 72,
   "metadata": {},
   "outputs": [
    {
     "name": "stdout",
     "output_type": "stream",
     "text": [
      "<class 'pandas.core.frame.DataFrame'>\n",
      "RangeIndex: 4226 entries, 0 to 4225\n",
      "Data columns (total 58 columns):\n",
      " #   Column                         Non-Null Count  Dtype  \n",
      "---  ------                         --------------  -----  \n",
      " 0   video_id                       4226 non-null   int64  \n",
      " 1   cvt_per_day                    4226 non-null   float64\n",
      " 2   weighted_categorical_position  4226 non-null   int64  \n",
      " 3   weighted_horizontal_poition    4226 non-null   int64  \n",
      " 4   imdb_votes                     3882 non-null   float64\n",
      " 5   budget                         1772 non-null   float64\n",
      " 6   boxoffice                      1032 non-null   float64\n",
      " 7   imdb_rating                    3882 non-null   float64\n",
      " 8   duration_in_mins               4226 non-null   float64\n",
      " 9   metacritic_score               1214 non-null   float64\n",
      " 10  star_category                  2380 non-null   float64\n",
      " 11  lionsgate                      4226 non-null   int64  \n",
      " 12  mgm                            4226 non-null   int64  \n",
      " 13  other                          4226 non-null   int64  \n",
      " 14  paramount                      4226 non-null   int64  \n",
      " 15  G                              4226 non-null   int64  \n",
      " 16  NC-17                          4226 non-null   int64  \n",
      " 17  NotRated                       4226 non-null   int64  \n",
      " 18  PG                             4226 non-null   int64  \n",
      " 19  PG-13                          4226 non-null   int64  \n",
      " 20  R                              4226 non-null   int64  \n",
      " 21  BAFTA                          4226 non-null   int64  \n",
      " 22  Golden Globe                   4226 non-null   int64  \n",
      " 23  Oscar                          4226 non-null   int64  \n",
      " 24  no award                       4226 non-null   int64  \n",
      " 25  other award                    4226 non-null   int64  \n",
      " 26  Action                         4226 non-null   int64  \n",
      " 27  Adventure                      4226 non-null   int64  \n",
      " 28  Animation                      4226 non-null   int64  \n",
      " 29  Comedy                         4226 non-null   int64  \n",
      " 30  Crime                          4226 non-null   int64  \n",
      " 31  Documentary                    4226 non-null   int64  \n",
      " 32  Drama                          4226 non-null   int64  \n",
      " 33  Fantasy                        4226 non-null   int64  \n",
      " 34  Foreign/International          4226 non-null   int64  \n",
      " 35  Horror                         4226 non-null   int64  \n",
      " 36  Independent                    4226 non-null   int64  \n",
      " 37  Kids & Family                  4226 non-null   int64  \n",
      " 38  Music                          4226 non-null   int64  \n",
      " 39  Musicals                       4226 non-null   int64  \n",
      " 40  Mystery                        4226 non-null   int64  \n",
      " 41  Romance                        4226 non-null   int64  \n",
      " 42  Sci-Fi                         4226 non-null   int64  \n",
      " 43  Sport                          4226 non-null   int64  \n",
      " 44  Thriller                       4226 non-null   int64  \n",
      " 45  War                            4226 non-null   int64  \n",
      " 46  Western                        4226 non-null   int64  \n",
      " 47  Misc_genres                    4226 non-null   int64  \n",
      " 48  1916-1974                      4226 non-null   int64  \n",
      " 49  1974-1991                      4226 non-null   int64  \n",
      " 50  1991-2001                      4226 non-null   int64  \n",
      " 51  2001-2006                      4226 non-null   int64  \n",
      " 52  2006-2008                      4226 non-null   int64  \n",
      " 53  2008-2010                      4226 non-null   int64  \n",
      " 54  2010-2012                      4226 non-null   int64  \n",
      " 55  2012-2013                      4226 non-null   int64  \n",
      " 56  2013-2014                      4226 non-null   int64  \n",
      " 57  2014-2017                      4226 non-null   int64  \n",
      "dtypes: float64(8), int64(50)\n",
      "memory usage: 1.9 MB\n",
      "None\n"
     ]
    }
   ],
   "source": [
    "# convert all zeros in these features column to null values\n",
    "new_prime[['budget','boxoffice','metacritic_score', 'star_category','imdb_votes', 'imdb_rating']] = new_prime[['budget','boxoffice','metacritic_score', 'star_category','imdb_votes', 'imdb_rating']].replace(0, np.nan)\n",
    "print(new_prime.info())"
   ]
  },
  {
   "cell_type": "code",
   "execution_count": 74,
   "metadata": {},
   "outputs": [
    {
     "name": "stdout",
     "output_type": "stream",
     "text": [
      "video_id                         0.000000\n",
      "cvt_per_day                      0.000000\n",
      "weighted_categorical_position    0.000000\n",
      "weighted_horizontal_poition      0.000000\n",
      "imdb_votes                       0.081401\n",
      "budget                           0.580691\n",
      "boxoffice                        0.755797\n",
      "imdb_rating                      0.081401\n",
      "duration_in_mins                 0.000000\n",
      "metacritic_score                 0.712731\n",
      "star_category                    0.436820\n",
      "lionsgate                        0.000000\n",
      "mgm                              0.000000\n",
      "other                            0.000000\n",
      "paramount                        0.000000\n",
      "G                                0.000000\n",
      "NC-17                            0.000000\n",
      "NotRated                         0.000000\n",
      "PG                               0.000000\n",
      "PG-13                            0.000000\n",
      "R                                0.000000\n",
      "BAFTA                            0.000000\n",
      "Golden Globe                     0.000000\n",
      "Oscar                            0.000000\n",
      "no award                         0.000000\n",
      "other award                      0.000000\n",
      "Action                           0.000000\n",
      "Adventure                        0.000000\n",
      "Animation                        0.000000\n",
      "Comedy                           0.000000\n",
      "Crime                            0.000000\n",
      "Documentary                      0.000000\n",
      "Drama                            0.000000\n",
      "Fantasy                          0.000000\n",
      "Foreign/International            0.000000\n",
      "Horror                           0.000000\n",
      "Independent                      0.000000\n",
      "Kids & Family                    0.000000\n",
      "Music                            0.000000\n",
      "Musicals                         0.000000\n",
      "Mystery                          0.000000\n",
      "Romance                          0.000000\n",
      "Sci-Fi                           0.000000\n",
      "Sport                            0.000000\n",
      "Thriller                         0.000000\n",
      "War                              0.000000\n",
      "Western                          0.000000\n",
      "Misc_genres                      0.000000\n",
      "1916-1974                        0.000000\n",
      "1974-1991                        0.000000\n",
      "1991-2001                        0.000000\n",
      "2001-2006                        0.000000\n",
      "2006-2008                        0.000000\n",
      "2008-2010                        0.000000\n",
      "2010-2012                        0.000000\n",
      "2012-2013                        0.000000\n",
      "2013-2014                        0.000000\n",
      "2014-2017                        0.000000\n",
      "dtype: float64\n"
     ]
    }
   ],
   "source": [
    "# calculate the percentage of missing data in each features\n",
    "print(new_prime.isnull().sum()/new_prime.shape[0])"
   ]
  },
  {
   "cell_type": "code",
   "execution_count": null,
   "metadata": {},
   "outputs": [],
   "source": [
    "# It's time to deal with these missing data!\n",
    "# Impute all zeros by mean"
   ]
  },
  {
   "cell_type": "code",
   "execution_count": 75,
   "metadata": {},
   "outputs": [
    {
     "name": "stdout",
     "output_type": "stream",
     "text": [
      "<class 'pandas.core.frame.DataFrame'>\n",
      "RangeIndex: 4226 entries, 0 to 4225\n",
      "Data columns (total 58 columns):\n",
      " #   Column                         Non-Null Count  Dtype  \n",
      "---  ------                         --------------  -----  \n",
      " 0   video_id                       4226 non-null   int64  \n",
      " 1   cvt_per_day                    4226 non-null   float64\n",
      " 2   weighted_categorical_position  4226 non-null   int64  \n",
      " 3   weighted_horizontal_poition    4226 non-null   int64  \n",
      " 4   imdb_votes                     4226 non-null   float64\n",
      " 5   budget                         4226 non-null   float64\n",
      " 6   boxoffice                      4226 non-null   float64\n",
      " 7   imdb_rating                    4226 non-null   float64\n",
      " 8   duration_in_mins               4226 non-null   float64\n",
      " 9   metacritic_score               4226 non-null   float64\n",
      " 10  star_category                  4226 non-null   float64\n",
      " 11  lionsgate                      4226 non-null   int64  \n",
      " 12  mgm                            4226 non-null   int64  \n",
      " 13  other                          4226 non-null   int64  \n",
      " 14  paramount                      4226 non-null   int64  \n",
      " 15  G                              4226 non-null   int64  \n",
      " 16  NC-17                          4226 non-null   int64  \n",
      " 17  NotRated                       4226 non-null   int64  \n",
      " 18  PG                             4226 non-null   int64  \n",
      " 19  PG-13                          4226 non-null   int64  \n",
      " 20  R                              4226 non-null   int64  \n",
      " 21  BAFTA                          4226 non-null   int64  \n",
      " 22  Golden Globe                   4226 non-null   int64  \n",
      " 23  Oscar                          4226 non-null   int64  \n",
      " 24  no award                       4226 non-null   int64  \n",
      " 25  other award                    4226 non-null   int64  \n",
      " 26  Action                         4226 non-null   int64  \n",
      " 27  Adventure                      4226 non-null   int64  \n",
      " 28  Animation                      4226 non-null   int64  \n",
      " 29  Comedy                         4226 non-null   int64  \n",
      " 30  Crime                          4226 non-null   int64  \n",
      " 31  Documentary                    4226 non-null   int64  \n",
      " 32  Drama                          4226 non-null   int64  \n",
      " 33  Fantasy                        4226 non-null   int64  \n",
      " 34  Foreign/International          4226 non-null   int64  \n",
      " 35  Horror                         4226 non-null   int64  \n",
      " 36  Independent                    4226 non-null   int64  \n",
      " 37  Kids & Family                  4226 non-null   int64  \n",
      " 38  Music                          4226 non-null   int64  \n",
      " 39  Musicals                       4226 non-null   int64  \n",
      " 40  Mystery                        4226 non-null   int64  \n",
      " 41  Romance                        4226 non-null   int64  \n",
      " 42  Sci-Fi                         4226 non-null   int64  \n",
      " 43  Sport                          4226 non-null   int64  \n",
      " 44  Thriller                       4226 non-null   int64  \n",
      " 45  War                            4226 non-null   int64  \n",
      " 46  Western                        4226 non-null   int64  \n",
      " 47  Misc_genres                    4226 non-null   int64  \n",
      " 48  1916-1974                      4226 non-null   int64  \n",
      " 49  1974-1991                      4226 non-null   int64  \n",
      " 50  1991-2001                      4226 non-null   int64  \n",
      " 51  2001-2006                      4226 non-null   int64  \n",
      " 52  2006-2008                      4226 non-null   int64  \n",
      " 53  2008-2010                      4226 non-null   int64  \n",
      " 54  2010-2012                      4226 non-null   int64  \n",
      " 55  2012-2013                      4226 non-null   int64  \n",
      " 56  2013-2014                      4226 non-null   int64  \n",
      " 57  2014-2017                      4226 non-null   int64  \n",
      "dtypes: float64(8), int64(50)\n",
      "memory usage: 1.9 MB\n",
      "None\n"
     ]
    }
   ],
   "source": [
    "new_prime1=new_prime.copy()\n",
    "new_prime1['boxoffice']=new_prime1['boxoffice'].fillna(new_prime1['boxoffice'].mean())\n",
    "new_prime1['metacritic_score']=new_prime1['metacritic_score'].fillna(new_prime1['metacritic_score'].mean())\n",
    "new_prime1['star_category']=new_prime1['star_category'].fillna(new_prime1['star_category'].mean())\n",
    "new_prime1['imdb_votes']=new_prime1['imdb_votes'].fillna(new_prime1['imdb_votes'].mean())\n",
    "new_prime1['imdb_rating']=new_prime1['imdb_rating'].fillna(new_prime1['imdb_rating'].mean())\n",
    "new_prime1['budget']=new_prime1['budget'].fillna(new_prime1['budget'].mean())\n",
    "print(new_prime1.info())"
   ]
  },
  {
   "cell_type": "code",
   "execution_count": 77,
   "metadata": {},
   "outputs": [],
   "source": [
    "# new_prime1 is the dataframe after filling out all missing values\n"
   ]
  },
  {
   "cell_type": "code",
   "execution_count": null,
   "metadata": {},
   "outputs": [],
   "source": [
    "# Feature Scaling\n",
    "# Here are no specific requirement for the range of output, I choose to use standard scaler"
   ]
  },
  {
   "cell_type": "code",
   "execution_count": 81,
   "metadata": {},
   "outputs": [
    {
     "data": {
      "text/html": [
       "<div>\n",
       "<style scoped>\n",
       "    .dataframe tbody tr th:only-of-type {\n",
       "        vertical-align: middle;\n",
       "    }\n",
       "\n",
       "    .dataframe tbody tr th {\n",
       "        vertical-align: top;\n",
       "    }\n",
       "\n",
       "    .dataframe thead th {\n",
       "        text-align: right;\n",
       "    }\n",
       "</style>\n",
       "<table border=\"1\" class=\"dataframe\">\n",
       "  <thead>\n",
       "    <tr style=\"text-align: right;\">\n",
       "      <th></th>\n",
       "      <th>video_id</th>\n",
       "      <th>cvt_per_day</th>\n",
       "      <th>weighted_categorical_position</th>\n",
       "      <th>weighted_horizontal_poition</th>\n",
       "      <th>imdb_votes</th>\n",
       "      <th>budget</th>\n",
       "      <th>boxoffice</th>\n",
       "      <th>imdb_rating</th>\n",
       "      <th>duration_in_mins</th>\n",
       "      <th>metacritic_score</th>\n",
       "      <th>...</th>\n",
       "      <th>1916-1974</th>\n",
       "      <th>1974-1991</th>\n",
       "      <th>1991-2001</th>\n",
       "      <th>2001-2006</th>\n",
       "      <th>2006-2008</th>\n",
       "      <th>2008-2010</th>\n",
       "      <th>2010-2012</th>\n",
       "      <th>2012-2013</th>\n",
       "      <th>2013-2014</th>\n",
       "      <th>2014-2017</th>\n",
       "    </tr>\n",
       "  </thead>\n",
       "  <tbody>\n",
       "    <tr>\n",
       "      <th>0</th>\n",
       "      <td>385504</td>\n",
       "      <td>307127.605608</td>\n",
       "      <td>-1.105826</td>\n",
       "      <td>-2.116264</td>\n",
       "      <td>1.984496</td>\n",
       "      <td>1.470049</td>\n",
       "      <td>4.695913</td>\n",
       "      <td>0.541892</td>\n",
       "      <td>1.078791</td>\n",
       "      <td>-0.629733</td>\n",
       "      <td>...</td>\n",
       "      <td>0</td>\n",
       "      <td>0</td>\n",
       "      <td>0</td>\n",
       "      <td>0</td>\n",
       "      <td>0</td>\n",
       "      <td>0</td>\n",
       "      <td>0</td>\n",
       "      <td>1</td>\n",
       "      <td>0</td>\n",
       "      <td>0</td>\n",
       "    </tr>\n",
       "    <tr>\n",
       "      <th>1</th>\n",
       "      <td>300175</td>\n",
       "      <td>270338.426375</td>\n",
       "      <td>-1.105826</td>\n",
       "      <td>-2.116264</td>\n",
       "      <td>1.258002</td>\n",
       "      <td>1.470049</td>\n",
       "      <td>-1.022340</td>\n",
       "      <td>0.541892</td>\n",
       "      <td>0.257409</td>\n",
       "      <td>-1.997101</td>\n",
       "      <td>...</td>\n",
       "      <td>0</td>\n",
       "      <td>0</td>\n",
       "      <td>0</td>\n",
       "      <td>0</td>\n",
       "      <td>0</td>\n",
       "      <td>0</td>\n",
       "      <td>0</td>\n",
       "      <td>1</td>\n",
       "      <td>0</td>\n",
       "      <td>0</td>\n",
       "    </tr>\n",
       "    <tr>\n",
       "      <th>2</th>\n",
       "      <td>361899</td>\n",
       "      <td>256165.867446</td>\n",
       "      <td>-1.105826</td>\n",
       "      <td>-2.116264</td>\n",
       "      <td>6.043083</td>\n",
       "      <td>3.108277</td>\n",
       "      <td>3.897514</td>\n",
       "      <td>1.099791</td>\n",
       "      <td>1.243025</td>\n",
       "      <td>0.327425</td>\n",
       "      <td>...</td>\n",
       "      <td>0</td>\n",
       "      <td>0</td>\n",
       "      <td>0</td>\n",
       "      <td>0</td>\n",
       "      <td>0</td>\n",
       "      <td>0</td>\n",
       "      <td>1</td>\n",
       "      <td>0</td>\n",
       "      <td>0</td>\n",
       "      <td>0</td>\n",
       "    </tr>\n",
       "    <tr>\n",
       "      <th>3</th>\n",
       "      <td>308314</td>\n",
       "      <td>196622.720996</td>\n",
       "      <td>-0.779746</td>\n",
       "      <td>-2.031963</td>\n",
       "      <td>11.077168</td>\n",
       "      <td>1.470049</td>\n",
       "      <td>0.766744</td>\n",
       "      <td>1.309003</td>\n",
       "      <td>1.951625</td>\n",
       "      <td>5.249951</td>\n",
       "      <td>...</td>\n",
       "      <td>0</td>\n",
       "      <td>0</td>\n",
       "      <td>0</td>\n",
       "      <td>0</td>\n",
       "      <td>1</td>\n",
       "      <td>0</td>\n",
       "      <td>0</td>\n",
       "      <td>0</td>\n",
       "      <td>0</td>\n",
       "      <td>0</td>\n",
       "    </tr>\n",
       "    <tr>\n",
       "      <th>4</th>\n",
       "      <td>307201</td>\n",
       "      <td>159841.652064</td>\n",
       "      <td>-1.105826</td>\n",
       "      <td>-2.116264</td>\n",
       "      <td>1.258478</td>\n",
       "      <td>3.289972</td>\n",
       "      <td>-0.264775</td>\n",
       "      <td>0.472155</td>\n",
       "      <td>0.758378</td>\n",
       "      <td>-2.544049</td>\n",
       "      <td>...</td>\n",
       "      <td>0</td>\n",
       "      <td>0</td>\n",
       "      <td>0</td>\n",
       "      <td>0</td>\n",
       "      <td>0</td>\n",
       "      <td>0</td>\n",
       "      <td>0</td>\n",
       "      <td>1</td>\n",
       "      <td>0</td>\n",
       "      <td>0</td>\n",
       "    </tr>\n",
       "  </tbody>\n",
       "</table>\n",
       "<p>5 rows × 58 columns</p>\n",
       "</div>"
      ],
      "text/plain": [
       "   video_id    cvt_per_day  weighted_categorical_position  \\\n",
       "0    385504  307127.605608                      -1.105826   \n",
       "1    300175  270338.426375                      -1.105826   \n",
       "2    361899  256165.867446                      -1.105826   \n",
       "3    308314  196622.720996                      -0.779746   \n",
       "4    307201  159841.652064                      -1.105826   \n",
       "\n",
       "   weighted_horizontal_poition  imdb_votes    budget  boxoffice  imdb_rating  \\\n",
       "0                    -2.116264    1.984496  1.470049   4.695913     0.541892   \n",
       "1                    -2.116264    1.258002  1.470049  -1.022340     0.541892   \n",
       "2                    -2.116264    6.043083  3.108277   3.897514     1.099791   \n",
       "3                    -2.031963   11.077168  1.470049   0.766744     1.309003   \n",
       "4                    -2.116264    1.258478  3.289972  -0.264775     0.472155   \n",
       "\n",
       "   duration_in_mins  metacritic_score  ...  1916-1974  1974-1991  1991-2001  \\\n",
       "0          1.078791         -0.629733  ...          0          0          0   \n",
       "1          0.257409         -1.997101  ...          0          0          0   \n",
       "2          1.243025          0.327425  ...          0          0          0   \n",
       "3          1.951625          5.249951  ...          0          0          0   \n",
       "4          0.758378         -2.544049  ...          0          0          0   \n",
       "\n",
       "   2001-2006  2006-2008  2008-2010  2010-2012  2012-2013  2013-2014  2014-2017  \n",
       "0          0          0          0          0          1          0          0  \n",
       "1          0          0          0          0          1          0          0  \n",
       "2          0          0          0          1          0          0          0  \n",
       "3          0          1          0          0          0          0          0  \n",
       "4          0          0          0          0          1          0          0  \n",
       "\n",
       "[5 rows x 58 columns]"
      ]
     },
     "execution_count": 81,
     "metadata": {},
     "output_type": "execute_result"
    }
   ],
   "source": [
    "#Standard scaling\n",
    "\n",
    "scale_lst = ['weighted_categorical_position', 'weighted_horizontal_poition', 'budget','boxoffice', \n",
    "             'imdb_votes','imdb_rating','duration_in_mins', 'metacritic_score','star_category']\n",
    "new_prime_sc = new_prime1.copy()\n",
    "\n",
    "sc_scale = preprocessing.StandardScaler().fit(new_prime_sc[scale_lst])\n",
    "new_prime_sc[scale_lst] = sc_scale.transform(new_prime_sc[scale_lst])\n",
    "new_prime_sc.head()"
   ]
  },
  {
   "cell_type": "code",
   "execution_count": 86,
   "metadata": {},
   "outputs": [],
   "source": [
    "# split data into 85% training and 15% testing data\n",
    "# drop video_id and cvt_per_day in independent variables\n",
    "# select only cvt_per_day in depending variable\n",
    "train, test = model_selection.train_test_split(new_prime_sc, test_size = 0.15, random_state = 3)\n",
    "model_train_x = train.drop(['video_id', 'cvt_per_day'], axis = 1)\n",
    "model_test_x = test.drop(['video_id', 'cvt_per_day'], axis = 1)\n",
    "model_train_y = train['cvt_per_day']\n",
    "model_test_y = test['cvt_per_day']"
   ]
  },
  {
   "cell_type": "code",
   "execution_count": null,
   "metadata": {},
   "outputs": [],
   "source": [
    "# Model selection\n",
    "# 1. Lasso Regression"
   ]
  },
  {
   "cell_type": "code",
   "execution_count": 88,
   "metadata": {},
   "outputs": [
    {
     "data": {
      "image/png": "[encoded data removed]",
      "text/plain": [
       "<Figure size 432x288 with 1 Axes>"
      ]
     },
     "metadata": {
      "needs_background": "light"
     },
     "output_type": "display_data"
    },
    {
     "name": "stdout",
     "output_type": "stream",
     "text": [
      "The optimaized alpha and score of Lasso linear is: \n"
     ]
    },
    {
     "data": {
      "text/plain": [
       "(None, 122.06107238906554, 0.36457853302954246)"
      ]
     },
     "execution_count": 88,
     "metadata": {},
     "output_type": "execute_result"
    }
   ],
   "source": [
    "lr_train, lr_validate = train_test_split(train, test_size=0.15, random_state = 0)\n",
    "\n",
    "lr_train_x = lr_train.drop(['video_id', 'cvt_per_day'], axis = 1)\n",
    "lr_validate_x = lr_validate.drop(['video_id', 'cvt_per_day'], axis = 1)\n",
    "lr_train_y = lr_train['cvt_per_day']\n",
    "lr_validate_y = lr_validate['cvt_per_day']\n",
    "\n",
    "alphas = np.logspace (-0.3, 2.5, num=150)\n",
    "# alphas= [0.000000001]\n",
    "scores = np.empty_like(alphas)\n",
    "opt_a = float('-inf')\n",
    "max_score = float('-inf')\n",
    "for i, a in enumerate(alphas):\n",
    "    lasso = Lasso()\n",
    "    lasso.set_params(alpha = a)\n",
    "    lasso.fit(lr_train_x, lr_train_y)\n",
    "    scores[i] = lasso.score(lr_validate_x, lr_validate_y)\n",
    "    if scores[i] > max_score:\n",
    "        max_score = scores[i]\n",
    "        opt_a = a\n",
    "        lasso_save = lasso\n",
    "plt.plot(alphas, scores, color='b', linestyle='dashed', marker='o',markerfacecolor='blue', markersize=6)\n",
    "plt.xlabel('alpha')\n",
    "plt.ylabel('score')\n",
    "plt.grid(True)\n",
    "plt.title('score vs. alpha')\n",
    "plt.show()\n",
    "model1_para = opt_a\n",
    "print ('The optimaized alpha and score of Lasso linear is: '), opt_a, max_score\n"
   ]
  },
  {
   "cell_type": "code",
   "execution_count": 89,
   "metadata": {},
   "outputs": [
    {
     "data": {
      "text/plain": [
       "Lasso(alpha=122.06107238906554)"
      ]
     },
     "execution_count": 89,
     "metadata": {},
     "output_type": "execute_result"
    }
   ],
   "source": [
    "# combine the validate data and training data, use the optimal alpha, re-train the model\n",
    "lasso_f = Lasso()\n",
    "lasso_f.set_params(alpha = opt_a)\n",
    "lasso_f.fit(model_train_x, model_train_y)"
   ]
  },
  {
   "cell_type": "code",
   "execution_count": 90,
   "metadata": {},
   "outputs": [
    {
     "data": {
      "image/png": "[encoded data removed]",
      "text/plain": [
       "<Figure size 432x288 with 1 Axes>"
      ]
     },
     "metadata": {
      "needs_background": "light"
     },
     "output_type": "display_data"
    },
    {
     "name": "stdout",
     "output_type": "stream",
     "text": [
      "The optimaized alpha and score of Ridge linear is: \n"
     ]
    },
    {
     "data": {
      "text/plain": [
       "(None, 163.97026580002054, 0.35296043098491625)"
      ]
     },
     "execution_count": 90,
     "metadata": {},
     "output_type": "execute_result"
    }
   ],
   "source": [
    "# Use the same training data set as Lasso (linear features)\n",
    "lr_train, lr_validate = train_test_split(train, test_size=0.15, random_state = 0)\n",
    "\n",
    "alphas = np.logspace (-10, 3, num=150)\n",
    "# alphas= [0.000000001]\n",
    "scores = np.empty_like(alphas)\n",
    "opt_a = float('-inf')\n",
    "max_score = float('-inf')\n",
    "for i, a in enumerate(alphas):\n",
    "    ridge = Ridge()\n",
    "    ridge.set_params(alpha = a)\n",
    "    ridge.fit(lr_train_x, lr_train_y)\n",
    "    scores[i] = ridge.score(lr_validate_x, lr_validate_y)\n",
    "    if scores[i] > max_score:\n",
    "        max_score = scores[i]\n",
    "        opt_a = a\n",
    "        ridge_save = ridge\n",
    "plt.plot(alphas, scores, color='r', linestyle='dashed', marker='o',markerfacecolor='r', markersize=6)\n",
    "plt.xlabel('alpha')\n",
    "plt.ylabel('score')\n",
    "plt.grid(True)\n",
    "plt.title('score vs. alpha')\n",
    "plt.show()\n",
    "model3_para = opt_a\n",
    "print ('The optimaized alpha and score of Ridge linear is: '), opt_a, max_score"
   ]
  },
  {
   "cell_type": "code",
   "execution_count": 91,
   "metadata": {},
   "outputs": [
    {
     "data": {
      "text/plain": [
       "Ridge(alpha=163.97026580002054)"
      ]
     },
     "execution_count": 91,
     "metadata": {},
     "output_type": "execute_result"
    }
   ],
   "source": [
    "# add the 15% validate data, use the optimal alpha, re-train the model\n",
    "\n",
    "ridge_f = Ridge()\n",
    "ridge_f.set_params(alpha = opt_a)\n",
    "ridge_f.fit(model_train_x, model_train_y)\n",
    "\n",
    "# ridge_f is the Ridge model (linear feature), to be tested with test data."
   ]
  },
  {
   "cell_type": "code",
   "execution_count": 93,
   "metadata": {},
   "outputs": [
    {
     "data": {
      "text/plain": [
       "GridSearchCV(cv=5,\n",
       "             estimator=RandomForestRegressor(max_features='sqrt', n_jobs=-1,\n",
       "                                             random_state=2),\n",
       "             n_jobs=-1,\n",
       "             param_grid={'max_depth': [15, 16, 17, 18, 19, 20, 21],\n",
       "                         'n_estimators': [55, 56, 57, 58, 59, 60, 61, 62, 63,\n",
       "                                          64, 65]})"
      ]
     },
     "execution_count": 93,
     "metadata": {},
     "output_type": "execute_result"
    }
   ],
   "source": [
    "rf = RandomForestRegressor(random_state=2,max_features='sqrt',n_jobs=-1)\n",
    "param_grid={'n_estimators':[55,56,57,58,59,60,61,62,63,64,65],'max_depth':[15,16,17,18,19,20,21]}\n",
    "clf=GridSearchCV(estimator=rf,param_grid=param_grid,cv=5,refit=True,n_jobs=-1,pre_dispatch='2*n_jobs')\n",
    "clf.fit(model_train_x,model_train_y)"
   ]
  },
  {
   "cell_type": "code",
   "execution_count": 94,
   "metadata": {},
   "outputs": [
    {
     "name": "stdout",
     "output_type": "stream",
     "text": [
      "{'mean_fit_time': array([0.47734995, 0.43741283, 0.45860724, 0.46299691, 0.49517703,\n",
      "       0.56154313, 0.4608892 , 0.50093236, 0.5143229 , 0.60560641,\n",
      "       0.69635224, 0.79572964, 0.81100101, 0.64790926, 0.70292835,\n",
      "       0.5654232 , 0.64333353, 0.5867301 , 0.55836601, 0.59953861,\n",
      "       0.70348463, 0.62077217, 0.52134075, 0.56528845, 0.50779924,\n",
      "       0.55682101, 0.68409352, 0.62389803, 0.78048854, 0.74329634,\n",
      "       0.84213052, 0.69383941, 0.76637754, 0.49183125, 0.56544018,\n",
      "       0.59394641, 0.67377219, 0.675912  , 0.64855762, 0.83421173,\n",
      "       1.16837463, 0.96004877, 0.8688592 , 0.86037784, 0.74730301,\n",
      "       0.76082358, 0.7980803 , 0.56296606, 0.70686679, 0.68678246,\n",
      "       0.77477851, 0.65932584, 0.5901072 , 0.63658361, 0.67174845,\n",
      "       0.56934619, 0.65359135, 0.61306195, 0.54277258, 0.55525842,\n",
      "       0.51757722, 0.5976634 , 0.59420166, 0.59367213, 0.68813043,\n",
      "       0.75004611, 0.61758699, 0.70077076, 0.88917875, 0.63176637,\n",
      "       0.55669279, 0.57722936, 0.55813088, 0.53764648, 0.60800805,\n",
      "       0.55618024, 0.54880424]), 'std_fit_time': array([0.02981882, 0.06753854, 0.05910114, 0.02086537, 0.07112319,\n",
      "       0.06347054, 0.06056011, 0.02274023, 0.08277297, 0.06519544,\n",
      "       0.20864643, 0.1528091 , 0.05466853, 0.05158749, 0.11655101,\n",
      "       0.0691747 , 0.04385561, 0.10073363, 0.0724466 , 0.07082835,\n",
      "       0.0788677 , 0.10569679, 0.07042636, 0.09554566, 0.04462769,\n",
      "       0.06320075, 0.06461964, 0.09162332, 0.0418139 , 0.08684776,\n",
      "       0.08419083, 0.12290031, 0.09103977, 0.09215284, 0.02801321,\n",
      "       0.20124518, 0.10110865, 0.13015133, 0.05882692, 0.12117178,\n",
      "       0.10194747, 0.02378666, 0.04024578, 0.11112625, 0.1300712 ,\n",
      "       0.07539048, 0.08469993, 0.10952363, 0.04784947, 0.08595883,\n",
      "       0.08816688, 0.07976109, 0.04731168, 0.04601463, 0.1111539 ,\n",
      "       0.10242394, 0.15117978, 0.02918323, 0.04446982, 0.08372932,\n",
      "       0.05652453, 0.0491048 , 0.08695842, 0.06012646, 0.06705248,\n",
      "       0.07529513, 0.11015782, 0.11074651, 0.16408349, 0.08026746,\n",
      "       0.06018139, 0.05416156, 0.0499037 , 0.04581616, 0.09973666,\n",
      "       0.0274113 , 0.02647483]), 'mean_score_time': array([0.03222375, 0.03219423, 0.0286252 , 0.02803502, 0.06353598,\n",
      "       0.02739415, 0.03019505, 0.02955627, 0.03448782, 0.03943038,\n",
      "       0.0345233 , 0.028368  , 0.03294206, 0.03946476, 0.03491979,\n",
      "       0.02902474, 0.03668647, 0.02940388, 0.04823256, 0.05126958,\n",
      "       0.03209295, 0.0275466 , 0.03097634, 0.03231292, 0.05192895,\n",
      "       0.03558259, 0.02941518, 0.03145018, 0.0406105 , 0.03529863,\n",
      "       0.03146   , 0.07593107, 0.03551965, 0.02918172, 0.03139896,\n",
      "       0.02979255, 0.03065443, 0.03488555, 0.03134413, 0.04455466,\n",
      "       0.0356349 , 0.03204465, 0.03100719, 0.03558168, 0.04627123,\n",
      "       0.03241296, 0.02821622, 0.03020921, 0.02592101, 0.03180957,\n",
      "       0.03766723, 0.04274697, 0.031601  , 0.02794366, 0.04018865,\n",
      "       0.02780457, 0.03029742, 0.02748089, 0.02830143, 0.02576518,\n",
      "       0.02830915, 0.04494491, 0.03100643, 0.03074565, 0.03128138,\n",
      "       0.0331635 , 0.0314692 , 0.03391681, 0.03706865, 0.03387117,\n",
      "       0.02646985, 0.02609434, 0.02722731, 0.03174028, 0.03272409,\n",
      "       0.02528319, 0.0318428 ]), 'std_score_time': array([0.00532323, 0.00743426, 0.00440406, 0.00274228, 0.04832254,\n",
      "       0.00157126, 0.00821591, 0.0044854 , 0.00790432, 0.01480647,\n",
      "       0.00499185, 0.00292195, 0.00477709, 0.00848661, 0.00551609,\n",
      "       0.00530404, 0.01129116, 0.00477445, 0.03019284, 0.02858372,\n",
      "       0.0053553 , 0.00217751, 0.00595863, 0.00690072, 0.03553571,\n",
      "       0.01421229, 0.00552088, 0.00753196, 0.00561354, 0.01314654,\n",
      "       0.00764006, 0.08241564, 0.01250336, 0.00624561, 0.00978746,\n",
      "       0.00700879, 0.0052523 , 0.00930522, 0.00667078, 0.01660964,\n",
      "       0.00228983, 0.00546893, 0.00486178, 0.00759539, 0.03029617,\n",
      "       0.00888269, 0.0069412 , 0.00399295, 0.00351954, 0.00579732,\n",
      "       0.01453207, 0.02763319, 0.00903466, 0.00272567, 0.01480714,\n",
      "       0.01061485, 0.00502554, 0.00570533, 0.00368057, 0.00334089,\n",
      "       0.00893487, 0.02662323, 0.00604216, 0.00483478, 0.00657338,\n",
      "       0.00386149, 0.00728632, 0.00356271, 0.01278456, 0.00930687,\n",
      "       0.00228598, 0.00199484, 0.00422203, 0.00497271, 0.01526522,\n",
      "       0.00203305, 0.0060924 ]), 'param_max_depth': masked_array(data=[15, 15, 15, 15, 15, 15, 15, 15, 15, 15, 15, 16, 16, 16,\n",
      "                   16, 16, 16, 16, 16, 16, 16, 16, 17, 17, 17, 17, 17, 17,\n",
      "                   17, 17, 17, 17, 17, 18, 18, 18, 18, 18, 18, 18, 18, 18,\n",
      "                   18, 18, 19, 19, 19, 19, 19, 19, 19, 19, 19, 19, 19, 20,\n",
      "                   20, 20, 20, 20, 20, 20, 20, 20, 20, 20, 21, 21, 21, 21,\n",
      "                   21, 21, 21, 21, 21, 21, 21],\n",
      "             mask=[False, False, False, False, False, False, False, False,\n",
      "                   False, False, False, False, False, False, False, False,\n",
      "                   False, False, False, False, False, False, False, False,\n",
      "                   False, False, False, False, False, False, False, False,\n",
      "                   False, False, False, False, False, False, False, False,\n",
      "                   False, False, False, False, False, False, False, False,\n",
      "                   False, False, False, False, False, False, False, False,\n",
      "                   False, False, False, False, False, False, False, False,\n",
      "                   False, False, False, False, False, False, False, False,\n",
      "                   False, False, False, False, False],\n",
      "       fill_value='?',\n",
      "            dtype=object), 'param_n_estimators': masked_array(data=[55, 56, 57, 58, 59, 60, 61, 62, 63, 64, 65, 55, 56, 57,\n",
      "                   58, 59, 60, 61, 62, 63, 64, 65, 55, 56, 57, 58, 59, 60,\n",
      "                   61, 62, 63, 64, 65, 55, 56, 57, 58, 59, 60, 61, 62, 63,\n",
      "                   64, 65, 55, 56, 57, 58, 59, 60, 61, 62, 63, 64, 65, 55,\n",
      "                   56, 57, 58, 59, 60, 61, 62, 63, 64, 65, 55, 56, 57, 58,\n",
      "                   59, 60, 61, 62, 63, 64, 65],\n",
      "             mask=[False, False, False, False, False, False, False, False,\n",
      "                   False, False, False, False, False, False, False, False,\n",
      "                   False, False, False, False, False, False, False, False,\n",
      "                   False, False, False, False, False, False, False, False,\n",
      "                   False, False, False, False, False, False, False, False,\n",
      "                   False, False, False, False, False, False, False, False,\n",
      "                   False, False, False, False, False, False, False, False,\n",
      "                   False, False, False, False, False, False, False, False,\n",
      "                   False, False, False, False, False, False, False, False,\n",
      "                   False, False, False, False, False],\n",
      "       fill_value='?',\n",
      "            dtype=object), 'params': [{'max_depth': 15, 'n_estimators': 55}, {'max_depth': 15, 'n_estimators': 56}, {'max_depth': 15, 'n_estimators': 57}, {'max_depth': 15, 'n_estimators': 58}, {'max_depth': 15, 'n_estimators': 59}, {'max_depth': 15, 'n_estimators': 60}, {'max_depth': 15, 'n_estimators': 61}, {'max_depth': 15, 'n_estimators': 62}, {'max_depth': 15, 'n_estimators': 63}, {'max_depth': 15, 'n_estimators': 64}, {'max_depth': 15, 'n_estimators': 65}, {'max_depth': 16, 'n_estimators': 55}, {'max_depth': 16, 'n_estimators': 56}, {'max_depth': 16, 'n_estimators': 57}, {'max_depth': 16, 'n_estimators': 58}, {'max_depth': 16, 'n_estimators': 59}, {'max_depth': 16, 'n_estimators': 60}, {'max_depth': 16, 'n_estimators': 61}, {'max_depth': 16, 'n_estimators': 62}, {'max_depth': 16, 'n_estimators': 63}, {'max_depth': 16, 'n_estimators': 64}, {'max_depth': 16, 'n_estimators': 65}, {'max_depth': 17, 'n_estimators': 55}, {'max_depth': 17, 'n_estimators': 56}, {'max_depth': 17, 'n_estimators': 57}, {'max_depth': 17, 'n_estimators': 58}, {'max_depth': 17, 'n_estimators': 59}, {'max_depth': 17, 'n_estimators': 60}, {'max_depth': 17, 'n_estimators': 61}, {'max_depth': 17, 'n_estimators': 62}, {'max_depth': 17, 'n_estimators': 63}, {'max_depth': 17, 'n_estimators': 64}, {'max_depth': 17, 'n_estimators': 65}, {'max_depth': 18, 'n_estimators': 55}, {'max_depth': 18, 'n_estimators': 56}, {'max_depth': 18, 'n_estimators': 57}, {'max_depth': 18, 'n_estimators': 58}, {'max_depth': 18, 'n_estimators': 59}, {'max_depth': 18, 'n_estimators': 60}, {'max_depth': 18, 'n_estimators': 61}, {'max_depth': 18, 'n_estimators': 62}, {'max_depth': 18, 'n_estimators': 63}, {'max_depth': 18, 'n_estimators': 64}, {'max_depth': 18, 'n_estimators': 65}, {'max_depth': 19, 'n_estimators': 55}, {'max_depth': 19, 'n_estimators': 56}, {'max_depth': 19, 'n_estimators': 57}, {'max_depth': 19, 'n_estimators': 58}, {'max_depth': 19, 'n_estimators': 59}, {'max_depth': 19, 'n_estimators': 60}, {'max_depth': 19, 'n_estimators': 61}, {'max_depth': 19, 'n_estimators': 62}, {'max_depth': 19, 'n_estimators': 63}, {'max_depth': 19, 'n_estimators': 64}, {'max_depth': 19, 'n_estimators': 65}, {'max_depth': 20, 'n_estimators': 55}, {'max_depth': 20, 'n_estimators': 56}, {'max_depth': 20, 'n_estimators': 57}, {'max_depth': 20, 'n_estimators': 58}, {'max_depth': 20, 'n_estimators': 59}, {'max_depth': 20, 'n_estimators': 60}, {'max_depth': 20, 'n_estimators': 61}, {'max_depth': 20, 'n_estimators': 62}, {'max_depth': 20, 'n_estimators': 63}, {'max_depth': 20, 'n_estimators': 64}, {'max_depth': 20, 'n_estimators': 65}, {'max_depth': 21, 'n_estimators': 55}, {'max_depth': 21, 'n_estimators': 56}, {'max_depth': 21, 'n_estimators': 57}, {'max_depth': 21, 'n_estimators': 58}, {'max_depth': 21, 'n_estimators': 59}, {'max_depth': 21, 'n_estimators': 60}, {'max_depth': 21, 'n_estimators': 61}, {'max_depth': 21, 'n_estimators': 62}, {'max_depth': 21, 'n_estimators': 63}, {'max_depth': 21, 'n_estimators': 64}, {'max_depth': 21, 'n_estimators': 65}], 'split0_test_score': array([0.38603551, 0.38686771, 0.3865352 , 0.38523129, 0.38439345,\n",
      "       0.38454928, 0.38639783, 0.3851586 , 0.38585601, 0.38466918,\n",
      "       0.38255983, 0.4248057 , 0.42141191, 0.42343156, 0.42245713,\n",
      "       0.42631456, 0.42629559, 0.42564528, 0.42734908, 0.42237156,\n",
      "       0.42763721, 0.42669656, 0.37951393, 0.38296372, 0.38639826,\n",
      "       0.38634764, 0.3795929 , 0.37490227, 0.37744393, 0.37754006,\n",
      "       0.37772058, 0.38108928, 0.38158657, 0.39501558, 0.39773831,\n",
      "       0.39925332, 0.398672  , 0.39996505, 0.40375871, 0.39916584,\n",
      "       0.40260835, 0.40058591, 0.40726233, 0.40947165, 0.43649377,\n",
      "       0.43103148, 0.43370988, 0.43185711, 0.42491458, 0.42061327,\n",
      "       0.42328063, 0.42671448, 0.4289938 , 0.43316898, 0.43026418,\n",
      "       0.45699886, 0.45240741, 0.45351922, 0.44820397, 0.44749199,\n",
      "       0.44605314, 0.44818288, 0.45022642, 0.45161575, 0.45585527,\n",
      "       0.45219697, 0.44755163, 0.4469005 , 0.44804404, 0.44580387,\n",
      "       0.43868927, 0.43741886, 0.44007437, 0.43665706, 0.43430271,\n",
      "       0.43665771, 0.43271574]), 'split1_test_score': array([0.55134499, 0.549914  , 0.54245103, 0.55058286, 0.54953228,\n",
      "       0.54938704, 0.55148352, 0.55475378, 0.55665784, 0.56163086,\n",
      "       0.56360611, 0.538439  , 0.53937798, 0.53776695, 0.54864488,\n",
      "       0.54921406, 0.54868344, 0.55114163, 0.55425108, 0.55181478,\n",
      "       0.5497224 , 0.55080616, 0.54482287, 0.54269662, 0.54339096,\n",
      "       0.55365282, 0.55444052, 0.55310313, 0.55469997, 0.55854057,\n",
      "       0.5593533 , 0.55968501, 0.55835544, 0.5549545 , 0.55123366,\n",
      "       0.55279937, 0.56169852, 0.57018772, 0.56987822, 0.57189854,\n",
      "       0.57440276, 0.57766927, 0.57427264, 0.57722014, 0.56393451,\n",
      "       0.56612251, 0.56523666, 0.57376425, 0.57321397, 0.57361837,\n",
      "       0.57546086, 0.57507138, 0.57572288, 0.56878032, 0.57089849,\n",
      "       0.52274999, 0.52125788, 0.5193314 , 0.52694867, 0.52291088,\n",
      "       0.52339385, 0.52739751, 0.53095649, 0.53578834, 0.53602186,\n",
      "       0.53703467, 0.56476766, 0.56449942, 0.56391834, 0.57263436,\n",
      "       0.57216734, 0.57291417, 0.57435007, 0.57716944, 0.57773245,\n",
      "       0.58191352, 0.58458904]), 'split2_test_score': array([0.37811973, 0.37799359, 0.38269108, 0.38390383, 0.3840552 ,\n",
      "       0.38379745, 0.38086453, 0.37615182, 0.37552166, 0.37928078,\n",
      "       0.38211584, 0.3864569 , 0.38919652, 0.39215175, 0.39132171,\n",
      "       0.39180645, 0.39520743, 0.39379291, 0.39156093, 0.38971492,\n",
      "       0.38830454, 0.39100271, 0.41156992, 0.40961197, 0.41176868,\n",
      "       0.40884156, 0.4110655 , 0.40867982, 0.4079356 , 0.40552173,\n",
      "       0.40330957, 0.40289434, 0.40189547, 0.4022263 , 0.40255445,\n",
      "       0.40479287, 0.40701146, 0.40343179, 0.40294506, 0.40244545,\n",
      "       0.39970034, 0.4011217 , 0.40939548, 0.40894877, 0.41191531,\n",
      "       0.40973044, 0.4120467 , 0.41198358, 0.41350386, 0.41020923,\n",
      "       0.40767256, 0.40414377, 0.40089132, 0.40184477, 0.40605608,\n",
      "       0.3870728 , 0.38526727, 0.38780279, 0.38702892, 0.38593579,\n",
      "       0.38321642, 0.38159596, 0.37924197, 0.37737827, 0.37776331,\n",
      "       0.37765953, 0.41013787, 0.40903059, 0.41159607, 0.4075245 ,\n",
      "       0.40765215, 0.40428338, 0.40354992, 0.40065284, 0.39560326,\n",
      "       0.3941889 , 0.39379994]), 'split3_test_score': array([0.61793144, 0.61901674, 0.6220966 , 0.62164288, 0.61907615,\n",
      "       0.6173648 , 0.61693727, 0.61842737, 0.61768852, 0.618018  ,\n",
      "       0.62101193, 0.61541345, 0.61923674, 0.61929056, 0.62087578,\n",
      "       0.62338625, 0.62430385, 0.62412934, 0.62499678, 0.61945769,\n",
      "       0.61959322, 0.62121814, 0.65149964, 0.65268154, 0.65192651,\n",
      "       0.65176804, 0.6542309 , 0.6491835 , 0.64567702, 0.64687631,\n",
      "       0.64461213, 0.64691264, 0.64345876, 0.62133421, 0.62134689,\n",
      "       0.62519738, 0.62742   , 0.62649292, 0.62606338, 0.62440918,\n",
      "       0.62453897, 0.62188922, 0.62427196, 0.62674986, 0.62431284,\n",
      "       0.62840524, 0.6328694 , 0.63308947, 0.63531552, 0.63773016,\n",
      "       0.63410602, 0.63415655, 0.63244987, 0.63253957, 0.63046493,\n",
      "       0.62884546, 0.62749897, 0.62875412, 0.63079797, 0.63561368,\n",
      "       0.63707024, 0.63517241, 0.640101  , 0.63985515, 0.64159739,\n",
      "       0.64080885, 0.63000216, 0.62825994, 0.63307741, 0.63301443,\n",
      "       0.63507342, 0.63602811, 0.63421124, 0.63687095, 0.63311496,\n",
      "       0.63958588, 0.63787437]), 'split4_test_score': array([0.25951172, 0.25209597, 0.24814691, 0.23969203, 0.23767532,\n",
      "       0.23825758, 0.24251123, 0.23168885, 0.23377863, 0.23914297,\n",
      "       0.23768303, 0.26018077, 0.26782496, 0.26467395, 0.26250411,\n",
      "       0.26255011, 0.2624527 , 0.26546794, 0.25615551, 0.25983414,\n",
      "       0.26668315, 0.26409533, 0.25654188, 0.25294703, 0.24834368,\n",
      "       0.24471942, 0.24687046, 0.24965894, 0.25344081, 0.24526363,\n",
      "       0.23890052, 0.24020326, 0.24358264, 0.25151181, 0.24997285,\n",
      "       0.24786252, 0.23903766, 0.24669694, 0.25015148, 0.25319596,\n",
      "       0.24213771, 0.24293342, 0.25220813, 0.25345336, 0.30761232,\n",
      "       0.30830419, 0.30128004, 0.29893135, 0.29779535, 0.29142724,\n",
      "       0.29636255, 0.28544717, 0.28683374, 0.28816085, 0.28825917,\n",
      "       0.27974598, 0.28335797, 0.27975373, 0.27770582, 0.27287116,\n",
      "       0.27492382, 0.27729888, 0.26937605, 0.27237265, 0.27870047,\n",
      "       0.27876634, 0.26799461, 0.26734686, 0.26271838, 0.26203761,\n",
      "       0.26023202, 0.25891365, 0.26146724, 0.2553562 , 0.24805335,\n",
      "       0.25578934, 0.25918558]), 'mean_test_score': array([0.43858868, 0.4371776 , 0.43638417, 0.43621058, 0.43494648,\n",
      "       0.43467123, 0.43563888, 0.43323609, 0.43390053, 0.43654836,\n",
      "       0.43739535, 0.44505917, 0.44740962, 0.44746295, 0.44916072,\n",
      "       0.45065429, 0.4513886 , 0.45203542, 0.45086267, 0.44863862,\n",
      "       0.4503881 , 0.45076378, 0.44878965, 0.44818018, 0.44836562,\n",
      "       0.4490659 , 0.44924006, 0.44710553, 0.44783947, 0.44674846,\n",
      "       0.44477922, 0.44615691, 0.44577578, 0.44500848, 0.44456923,\n",
      "       0.44598109, 0.44676793, 0.44935488, 0.45055937, 0.45022299,\n",
      "       0.44867762, 0.4488399 , 0.45348211, 0.45516876, 0.46885375,\n",
      "       0.46871877, 0.46902853, 0.46992515, 0.46894865, 0.46671965,\n",
      "       0.46737652, 0.46510667, 0.46497832, 0.4648989 , 0.46518857,\n",
      "       0.45508262, 0.4539579 , 0.45383225, 0.45413707, 0.4529647 ,\n",
      "       0.45293149, 0.45392953, 0.45398038, 0.45540203, 0.45798766,\n",
      "       0.45729327, 0.46409078, 0.46320746, 0.46387085, 0.46420295,\n",
      "       0.46276284, 0.46191163, 0.46273057, 0.4613413 , 0.45776135,\n",
      "       0.46162707, 0.46163294]), 'std_test_score': array([0.12912374, 0.13119757, 0.13156019, 0.13521877, 0.13497784,\n",
      "       0.13432448, 0.13342585, 0.13802442, 0.1375591 , 0.13676021,\n",
      "       0.13826928, 0.12309738, 0.12189999, 0.12225236, 0.12512576,\n",
      "       0.12568933, 0.12557765, 0.12516742, 0.12883502, 0.12620108,\n",
      "       0.12378785, 0.1249471 , 0.13671676, 0.13755787, 0.1383148 ,\n",
      "       0.1409508 , 0.14166853, 0.13981845, 0.13776615, 0.14116247,\n",
      "       0.14259246, 0.14262808, 0.14048526, 0.13034528, 0.12996444,\n",
      "       0.13165071, 0.13630104, 0.13534917, 0.13390996, 0.13330787,\n",
      "       0.13705029, 0.13678159, 0.13292903, 0.13360406, 0.11269058,\n",
      "       0.11456007, 0.11724652, 0.11954115, 0.12071103, 0.12386976,\n",
      "       0.12184887, 0.12501046, 0.1244577 , 0.12256728, 0.12207476,\n",
      "       0.11844352, 0.11702216, 0.11794161, 0.12014765, 0.12264553,\n",
      "       0.12285459, 0.12223754, 0.12668456, 0.12655964, 0.12520883,\n",
      "       0.12512077, 0.12593696, 0.1257496 , 0.12812948, 0.13013569,\n",
      "       0.13137407, 0.1324894 , 0.13144361, 0.13486963, 0.13677232,\n",
      "       0.13687857, 0.13608946]), 'rank_test_score': array([67, 69, 71, 72, 74, 75, 73, 77, 76, 70, 68, 63, 56, 55, 46, 40, 37,\n",
      "       36, 38, 51, 42, 39, 49, 53, 52, 47, 45, 57, 54, 59, 65, 60, 62, 64,\n",
      "       66, 61, 58, 44, 41, 43, 50, 48, 33, 26,  4,  5,  2,  1,  3,  7,  6,\n",
      "        9, 10, 11,  8, 27, 30, 32, 28, 34, 35, 31, 29, 25, 22, 24, 13, 15,\n",
      "       14, 12, 16, 18, 17, 21, 23, 20, 19], dtype=int32)}\n"
     ]
    },
    {
     "data": {
      "image/png": "[encoded data removed]",
      "text/plain": [
       "<Figure size 432x288 with 1 Axes>"
      ]
     },
     "metadata": {
      "needs_background": "light"
     },
     "output_type": "display_data"
    },
    {
     "name": "stdout",
     "output_type": "stream",
     "text": [
      "the best parameter for max_depth is: 19\n",
      "the best parameter for n_estimators is: 58\n"
     ]
    }
   ],
   "source": [
    "result=clf.cv_results_\n",
    "print(result)\n",
    "max_depth=[15,16,17,18,19,20,21]\n",
    "n_estimators=[55,56,57,58,59,60,61,62,63,64,65]\n",
    "scores=clf.cv_results_['mean_test_score'].reshape(len(max_depth),len(n_estimators))\n",
    "plt.figure(1)\n",
    "plt.subplot(1,1,1)\n",
    "for i,j in enumerate(max_depth):\n",
    "    plt.plot(n_estimators,scores[i],'-o',label='max_depths is: '+str(j))\n",
    "plt.legend(bbox_to_anchor=(1.05, 1), loc='upper left', borderaxespad=0.)\n",
    "plt.xlabel('n_estimators')\n",
    "plt.ylabel('mean_test_score')\n",
    "plt.show()\n",
    "print('the best parameter for max_depth is: '+str(clf.best_params_['max_depth']))\n",
    "print('the best parameter for n_estimators is: '+str(clf.best_params_['n_estimators']))"
   ]
  },
  {
   "cell_type": "code",
   "execution_count": 95,
   "metadata": {},
   "outputs": [],
   "source": [
    "# Model evaluation"
   ]
  },
  {
   "cell_type": "code",
   "execution_count": 96,
   "metadata": {},
   "outputs": [],
   "source": [
    "train_x = model_train_x\n",
    "train_y = model_train_y\n",
    "test_x = model_test_x\n",
    "test_y = model_test_y"
   ]
  },
  {
   "cell_type": "code",
   "execution_count": 97,
   "metadata": {},
   "outputs": [
    {
     "name": "stdout",
     "output_type": "stream",
     "text": [
      "lasso score:  0.09954927178753703\n",
      "Mean square error of lasso:  238953191.99910036\n",
      "Root mean squared error of lasso: 15458.110880670392\n"
     ]
    }
   ],
   "source": [
    "#For lasso\n",
    "from sklearn.linear_model import Lasso\n",
    "from sklearn.metrics import  mean_squared_error\n",
    "lasso=Lasso(alpha=model1_para)\n",
    "lasso.fit(train_x,train_y)\n",
    "pred_y=lasso.predict(test_x)\n",
    "lasso_score=lasso.score(test_x,test_y)\n",
    "MSE_lasso=mean_squared_error(test_y,pred_y)\n",
    "RMSE_lasso=np.sqrt(MSE_lasso)\n",
    "print ('lasso score: ', lasso_score)\n",
    "print ('Mean square error of lasso: ', MSE_lasso)\n",
    "print ('Root mean squared error of lasso:', RMSE_lasso)"
   ]
  },
  {
   "cell_type": "code",
   "execution_count": 98,
   "metadata": {},
   "outputs": [
    {
     "name": "stdout",
     "output_type": "stream",
     "text": [
      "ridge score:  0.11371374943726797\n",
      "Mean square error of ridge:  235194355.40609524\n",
      "Root mean squared error of ridge: 15336.047580980416\n"
     ]
    }
   ],
   "source": [
    "#for ridge\n",
    "from sklearn.metrics import  mean_squared_error\n",
    "ridge=Ridge(alpha=model3_para)\n",
    "ridge.fit(train_x,train_y)\n",
    "pred_y=ridge.predict(test_x)\n",
    "ridge_score=ridge.score(test_x,test_y)\n",
    "MSE_ridge=mean_squared_error(test_y,pred_y)\n",
    "RMSE_ridge=np.sqrt(MSE_ridge)\n",
    "print ('ridge score: ', ridge_score)\n",
    "print ('Mean square error of ridge: ', MSE_ridge)\n",
    "print ('Root mean squared error of ridge:', RMSE_ridge)"
   ]
  },
  {
   "cell_type": "code",
   "execution_count": 99,
   "metadata": {},
   "outputs": [
    {
     "name": "stdout",
     "output_type": "stream",
     "text": [
      "rf score:  0.5139461304918904\n",
      "Mean square error of rf:  128984429.64563024\n",
      "Root mean squared error of rf: 11357.131224285042\n"
     ]
    }
   ],
   "source": [
    "#For randomforest regression\n",
    "from sklearn.ensemble import RandomForestRegressor\n",
    "rf=RandomForestRegressor(n_estimators=clf.best_params_['n_estimators'],max_depth=clf.best_params_['max_depth'],max_features='sqrt',random_state=2,n_jobs=-1)\n",
    "rf.fit(train_x,train_y)\n",
    "pred_y=rf.predict(test_x)\n",
    "rf_score=rf.score(test_x,test_y)\n",
    "MSE_rf=mean_squared_error(test_y,pred_y)\n",
    "RMSE_rf=np.sqrt(MSE_rf)\n",
    "print ('rf score: ', rf_score)\n",
    "print ('Mean square error of rf: ', MSE_rf)\n",
    "print ('Root mean squared error of rf:', RMSE_rf)"
   ]
  },
  {
   "cell_type": "code",
   "execution_count": 100,
   "metadata": {},
   "outputs": [],
   "source": [
    "# Model Comparison"
   ]
  },
  {
   "cell_type": "code",
   "execution_count": 101,
   "metadata": {},
   "outputs": [
    {
     "data": {
      "image/png": "[encoded data removed]",
      "text/plain": [
       "<Figure size 432x288 with 1 Axes>"
      ]
     },
     "metadata": {
      "needs_background": "light"
     },
     "output_type": "display_data"
    },
    {
     "data": {
      "image/png": "[encoded data removed]",
      "text/plain": [
       "<Figure size 432x288 with 1 Axes>"
      ]
     },
     "metadata": {
      "needs_background": "light"
     },
     "output_type": "display_data"
    },
    {
     "data": {
      "image/png": "[encoded data removed]",
      "text/plain": [
       "<Figure size 432x288 with 1 Axes>"
      ]
     },
     "metadata": {
      "needs_background": "light"
     },
     "output_type": "display_data"
    }
   ],
   "source": [
    "lst_score = [lasso_score, ridge_score, rf_score]\n",
    "MSE_lst =  [MSE_lasso, MSE_ridge, MSE_rf]\n",
    "RMSE_lst =  [RMSE_lasso, RMSE_ridge, RMSE_rf]\n",
    "model_lst = ['Lasso_linear', 'Ridge linear', 'Random forest']\n",
    "\n",
    "plt.figure(1)\n",
    "plt.plot(model_lst, lst_score, 'ro')\n",
    "plt.legend(['r-squre / score'])\n",
    "plt.xlabel('model names',fontsize =16)\n",
    "plt.ylabel('score / r square', fontsize =16)\n",
    "plt.grid(True)\n",
    "plt.show()\n",
    "\n",
    "plt.figure(2)\n",
    "plt.plot(model_lst, MSE_lst, 'g^')\n",
    "plt.legend(['mean square error (MSE)'])\n",
    "plt.xlabel('model names', fontsize =16)\n",
    "plt.ylabel('mean square error', fontsize =16)\n",
    "plt.grid(True)\n",
    "plt.show()\n",
    "\n",
    "plt.figure(3)\n",
    "plt.plot(model_lst, RMSE_lst, 'bs')\n",
    "plt.legend(['root mean square error (RMSE)'])\n",
    "plt.xlabel('model names', fontsize =16)\n",
    "plt.ylabel('root mean square error', fontsize =16)\n",
    "plt.grid(True)\n",
    "plt.show()"
   ]
  },
  {
   "cell_type": "code",
   "execution_count": null,
   "metadata": {},
   "outputs": [],
   "source": [
    "# Feature Importance\n",
    "# According to MSE,RMSE and R square, the Random Forest Regression has the best performance"
   ]
  },
  {
   "cell_type": "code",
   "execution_count": 102,
   "metadata": {},
   "outputs": [
    {
     "data": {
      "image/png": "[encoded data removed]",
      "text/plain": [
       "<Figure size 432x288 with 1 Axes>"
      ]
     },
     "metadata": {
      "needs_background": "light"
     },
     "output_type": "display_data"
    }
   ],
   "source": [
    "importances = rf.feature_importances_\n",
    "feature_name = train_x.columns.values\n",
    "indices = np.argsort(importances)[::-1]\n",
    "plt.figure(1)\n",
    "plt.bar(feature_name[indices[:20]], importances[indices[:20]])\n",
    "plt.xticks(rotation=90)\n",
    "plt.show()"
   ]
  }
 ],
 "metadata": {
  "kernelspec": {
   "display_name": "Python 3",
   "language": "python",
   "name": "python3"
  },
  "language_info": {
   "codemirror_mode": {
    "name": "ipython",
    "version": 3
   },
   "file_extension": ".py",
   "mimetype": "text/x-python",
   "name": "python",
   "nbconvert_exporter": "python",
   "pygments_lexer": "ipython3",
   "version": "3.8.1"
  }
 },
 "nbformat": 4,
 "nbformat_minor": 4
}
